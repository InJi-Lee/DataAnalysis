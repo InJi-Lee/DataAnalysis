{
  "nbformat": 4,
  "nbformat_minor": 0,
  "metadata": {
    "colab": {
      "name": "41_영어_Word2Vec.ipynb",
      "provenance": [],
      "collapsed_sections": []
    },
    "kernelspec": {
      "name": "python3",
      "display_name": "Python 3"
    },
    "language_info": {
      "name": "python"
    }
  },
  "cells": [
    {
      "cell_type": "code",
      "metadata": {
        "colab": {
          "base_uri": "https://localhost:8080/"
        },
        "id": "h5j_-8GazlPc",
        "outputId": "7278953e-136e-43fd-c849-b0e7dcace498"
      },
      "source": [
        "import nltk\n",
        "nltk.download('punkt')"
      ],
      "execution_count": 1,
      "outputs": [
        {
          "output_type": "stream",
          "name": "stdout",
          "text": [
            "[nltk_data] Downloading package punkt to /root/nltk_data...\n",
            "[nltk_data]   Unzipping tokenizers/punkt.zip.\n"
          ]
        },
        {
          "output_type": "execute_result",
          "data": {
            "text/plain": [
              "True"
            ]
          },
          "metadata": {},
          "execution_count": 1
        }
      ]
    },
    {
      "cell_type": "code",
      "metadata": {
        "id": "FWi9aRdJ32W8"
      },
      "source": [
        "import urllib.request\n",
        "import zipfile\n",
        "from lxml import etree\n",
        "import re\n",
        "from nltk.tokenize import word_tokenize, sent_tokenize"
      ],
      "execution_count": 2,
      "outputs": []
    },
    {
      "cell_type": "markdown",
      "metadata": {
        "id": "Sukh8mj-3-uF"
      },
      "source": [
        "## 훈련 데이터 이해하기"
      ]
    },
    {
      "cell_type": "code",
      "metadata": {
        "colab": {
          "base_uri": "https://localhost:8080/"
        },
        "id": "GIYq-0Ik39it",
        "outputId": "7178015c-b564-42f5-c490-9180ee5f1119"
      },
      "source": [
        "# 데이터 다운로드\n",
        "urllib.request.urlretrieve(\"https://raw.githubusercontent.com/GaoleMeng/RNN-and-FFNN-textClassification/master/ted_en-20160408.xml\", filename=\"ted_en-20160408.xml\")"
      ],
      "execution_count": 3,
      "outputs": [
        {
          "output_type": "execute_result",
          "data": {
            "text/plain": [
              "('ted_en-20160408.xml', <http.client.HTTPMessage at 0x7f0963cd5510>)"
            ]
          },
          "metadata": {},
          "execution_count": 3
        }
      ]
    },
    {
      "cell_type": "code",
      "metadata": {
        "colab": {
          "base_uri": "https://localhost:8080/"
        },
        "id": "PsI2eVhj4CcK",
        "outputId": "84df8c43-f297-41c6-8a6d-ba34e342804d"
      },
      "source": [
        "!ls -l ted_en-20160408.xml"
      ],
      "execution_count": 4,
      "outputs": [
        {
          "output_type": "stream",
          "name": "stdout",
          "text": [
            "-rw-r--r-- 1 root root 74533638 Sep  3 04:17 ted_en-20160408.xml\n"
          ]
        }
      ]
    },
    {
      "cell_type": "code",
      "metadata": {
        "colab": {
          "base_uri": "https://localhost:8080/"
        },
        "id": "mOypcQyg4RMl",
        "outputId": "e2549a98-8512-427f-af25-6d182a06f0bc"
      },
      "source": [
        "!more ted_en-20160408.xml"
      ],
      "execution_count": 5,
      "outputs": [
        {
          "output_type": "stream",
          "name": "stdout",
          "text": [
            "<?xml version=\"1.0\" encoding=\"UTF-8\"?>\n",
            "<xml language=\"en\"><file id=\"1\">\n",
            "  <head>\n",
            "    <url>http://www.ted.com/talks/knut_haanaes_two_reasons_companies_fail_and_ho\n",
            "w_to_avoid_them</url>\n",
            "    <pagesize>72832</pagesize>\n",
            "    <dtime>Fri Apr 01 00:57:03 CEST 2016</dtime>\n",
            "    <encoding>UTF-8</encoding>\n",
            "    <content-type>text/html; charset=utf-8</content-type>\n",
            "    <keywords>talks, business, creativity, curiosity, goal-setting, innovation, \n",
            "motivation, potential, success, work</keywords>\n",
            "    <speaker>Knut Haanaes</speaker>\n",
            "    <talkid>2470</talkid>\n",
            "    <videourl>http://download.ted.com/talks/KnutHaanaes_2015S.mp4</videourl>\n",
            "    <videopath>talks/KnutHaanaes_2015S.mp4</videopath>\n",
            "    <date>2015/06/30</date>\n",
            "    <title>Knut Haanaes: Two reasons companies fail -- and how to avoid them</ti\n",
            "tle>\n",
            "    <description>TED Talk Subtitles and Transcript: Is it possible to run a comp\n",
            "any and reinvent it at the same time? For business strategist Knut Haanaes, the \n",
            "ability to innovate after becoming successful is the mark of a great organizatio\n",
            "n. He shares insights on how to strike a balance between perfecting what we alre\n",
            "ady know and exploring totally new ideas -- and lays out how to avoid two major \n",
            "\u001b[K"
          ]
        }
      ]
    },
    {
      "cell_type": "markdown",
      "metadata": {
        "id": "koIRYxnx51MY"
      },
      "source": [
        "## 훈련 데이터 전처리하기"
      ]
    },
    {
      "cell_type": "code",
      "metadata": {
        "id": "1vEnK2dC4bGB"
      },
      "source": [
        "targetXML=open('ted_en-20160408.xml', 'r', encoding='UTF8')\n",
        "target_text = etree.parse(targetXML)"
      ],
      "execution_count": 6,
      "outputs": []
    },
    {
      "cell_type": "code",
      "metadata": {
        "id": "pAq8nN5c6IJB"
      },
      "source": [
        "# xml 파일로부터 <content>와 </content> 사이의 내용만 가져온다.\n",
        "parse_text = '\\n'.join(target_text.xpath('//content/text()'))"
      ],
      "execution_count": 7,
      "outputs": []
    },
    {
      "cell_type": "code",
      "metadata": {
        "id": "J_jSjm8_6m6O"
      },
      "source": [
        "# 정규 표현식의 sub 모듈을 통해 content 중간에 등장하는 (Audio), (Laughter) 등의 배경음 부분을 제거.\n",
        "# 해당 코드는 괄호로 구성된 내용을 제거.\n",
        "content_text = re.sub(r'\\([^)]*\\)', '', parse_text)\n"
      ],
      "execution_count": 8,
      "outputs": []
    },
    {
      "cell_type": "code",
      "metadata": {
        "id": "PtPvjYtu608a"
      },
      "source": [
        "# 입력 코퍼스에 대해서 NLTK를 이용하여 문장 토큰화를 수행.\n",
        "sent_text = sent_tokenize(content_text)"
      ],
      "execution_count": 9,
      "outputs": []
    },
    {
      "cell_type": "code",
      "metadata": {
        "id": "L-MKctfI7KRs"
      },
      "source": [
        "# 각 문장에 대해서 구두점을 제거하고, 대문자를 소문자로 변환.\n",
        "normalized_text = []\n",
        "for string in sent_text:\n",
        "     tokens = re.sub(r\"[^a-z0-9]+\", \" \", string.lower())\n",
        "     normalized_text.append(tokens)"
      ],
      "execution_count": 10,
      "outputs": []
    },
    {
      "cell_type": "code",
      "metadata": {
        "id": "GCx4KdDa7cxm"
      },
      "source": [
        "# 각 문장에 대해서 NLTK를 이용하여 단어 토큰화를 수행.\n",
        "result = [word_tokenize(sentence) for sentence in normalized_text]"
      ],
      "execution_count": 11,
      "outputs": []
    },
    {
      "cell_type": "code",
      "metadata": {
        "colab": {
          "base_uri": "https://localhost:8080/"
        },
        "id": "1lgOw1HP7jV5",
        "outputId": "57f0f0c0-f88d-4d2d-9b5b-bc562765fb3d"
      },
      "source": [
        "print(f'총 샘플의 개수 : {len(result):,d}')"
      ],
      "execution_count": 13,
      "outputs": [
        {
          "output_type": "stream",
          "name": "stdout",
          "text": [
            "총 샘플의 개수 : 273,424\n"
          ]
        }
      ]
    },
    {
      "cell_type": "code",
      "metadata": {
        "colab": {
          "base_uri": "https://localhost:8080/"
        },
        "id": "KSkdJgcV78Jj",
        "outputId": "d21fcf8e-bc70-462c-e043-d8bb6dc57eb6"
      },
      "source": [
        "# 샘플 3개만 출력\n",
        "for line in result[:3]:\n",
        "    print(line)"
      ],
      "execution_count": 14,
      "outputs": [
        {
          "output_type": "stream",
          "name": "stdout",
          "text": [
            "['here', 'are', 'two', 'reasons', 'companies', 'fail', 'they', 'only', 'do', 'more', 'of', 'the', 'same', 'or', 'they', 'only', 'do', 'what', 's', 'new']\n",
            "['to', 'me', 'the', 'real', 'real', 'solution', 'to', 'quality', 'growth', 'is', 'figuring', 'out', 'the', 'balance', 'between', 'two', 'activities', 'exploration', 'and', 'exploitation']\n",
            "['both', 'are', 'necessary', 'but', 'it', 'can', 'be', 'too', 'much', 'of', 'a', 'good', 'thing']\n"
          ]
        }
      ]
    },
    {
      "cell_type": "markdown",
      "metadata": {
        "id": "0m_4K_IN8NXk"
      },
      "source": [
        "## Word2Vec 훈련시키기\n",
        "- size = 워드 벡터의 특징 값. 즉, 임베딩 된 벡터의 차원.\n",
        "- window = 컨텍스트 윈도우 크기\n",
        "- min_count = 단어 최소 빈도 수 제한 (빈도가 적은 단어들은 학습하지 않는다.)\n",
        "- workers = 학습을 위한 프로세스 수<br>\n",
        "- sg = 0은 CBOW, 1은 Skip-gram."
      ]
    },
    {
      "cell_type": "code",
      "metadata": {
        "id": "B_2LtJi18WiP"
      },
      "source": [
        "from gensim.models import Word2Vec\n",
        "model = Word2Vec(sentences=result, size=100, window=5, min_count=5, workers=4, sg=0)"
      ],
      "execution_count": 16,
      "outputs": []
    },
    {
      "cell_type": "code",
      "metadata": {
        "colab": {
          "base_uri": "https://localhost:8080/"
        },
        "id": "_ZgCYCJQ8sOr",
        "outputId": "6c64b851-f6a0-47c1-fe0a-1551b040326c"
      },
      "source": [
        "model.wv.most_similar('man')"
      ],
      "execution_count": 17,
      "outputs": [
        {
          "output_type": "execute_result",
          "data": {
            "text/plain": [
              "[('woman', 0.8529981374740601),\n",
              " ('guy', 0.8306294679641724),\n",
              " ('boy', 0.7724599242210388),\n",
              " ('lady', 0.765831708908081),\n",
              " ('girl', 0.7470220327377319),\n",
              " ('gentleman', 0.7448514103889465),\n",
              " ('soldier', 0.7266100645065308),\n",
              " ('kid', 0.7215229272842407),\n",
              " ('poet', 0.6889035701751709),\n",
              " ('rabbi', 0.680840015411377)]"
            ]
          },
          "metadata": {},
          "execution_count": 17
        }
      ]
    },
    {
      "cell_type": "code",
      "metadata": {
        "colab": {
          "base_uri": "https://localhost:8080/"
        },
        "id": "lLyW9IRs9BEy",
        "outputId": "8c515a46-29b2-41bb-a25f-e611e5caf544"
      },
      "source": [
        "# man - boy + girl --> woman\n",
        "model.wv.most_similar(positive=['man', 'girl'], negative=['boy'], topn=3)"
      ],
      "execution_count": 18,
      "outputs": [
        {
          "output_type": "execute_result",
          "data": {
            "text/plain": [
              "[('woman', 0.8496214151382446),\n",
              " ('guy', 0.7676595449447632),\n",
              " ('lady', 0.7492598295211792)]"
            ]
          },
          "metadata": {},
          "execution_count": 18
        }
      ]
    },
    {
      "cell_type": "markdown",
      "metadata": {
        "id": "NSte1uZP9v3X"
      },
      "source": [
        "## 모델 저장하고 로드하기"
      ]
    },
    {
      "cell_type": "code",
      "metadata": {
        "id": "C2TOnff59iZE"
      },
      "source": [
        "from gensim.models import KeyedVectors\n",
        "model.wv.save_word2vec_format('eng_w2v') # 모델 저장"
      ],
      "execution_count": 19,
      "outputs": []
    },
    {
      "cell_type": "code",
      "metadata": {
        "colab": {
          "base_uri": "https://localhost:8080/"
        },
        "id": "p-pMPqOs-CDg",
        "outputId": "ddf4ae59-c585-4193-b7ca-1ffc567d2f81"
      },
      "source": [
        "!ls -l"
      ],
      "execution_count": 20,
      "outputs": [
        {
          "output_type": "stream",
          "name": "stdout",
          "text": [
            "total 97888\n",
            "-rw-r--r-- 1 root root 25696145 Sep  3 04:43 eng_w2v\n",
            "drwxr-xr-x 1 root root     4096 Sep  1 19:26 sample_data\n",
            "-rw-r--r-- 1 root root 74533638 Sep  3 04:17 ted_en-20160408.xml\n"
          ]
        }
      ]
    },
    {
      "cell_type": "code",
      "metadata": {
        "id": "Rzird1BF-G8z"
      },
      "source": [
        "loaded_model = KeyedVectors.load_word2vec_format(\"eng_w2v\") # 모델 로드"
      ],
      "execution_count": 21,
      "outputs": []
    },
    {
      "cell_type": "code",
      "metadata": {
        "colab": {
          "base_uri": "https://localhost:8080/"
        },
        "id": "I26oYD42-Rbz",
        "outputId": "a497b02c-16c7-47db-8e97-73349ece0d03"
      },
      "source": [
        "loaded_model.wv.most_similar('man')"
      ],
      "execution_count": 22,
      "outputs": [
        {
          "output_type": "stream",
          "name": "stderr",
          "text": [
            "/usr/local/lib/python3.7/dist-packages/ipykernel_launcher.py:1: DeprecationWarning: Call to deprecated `wv` (Attribute will be removed in 4.0.0, use self instead).\n",
            "  \"\"\"Entry point for launching an IPython kernel.\n"
          ]
        },
        {
          "output_type": "execute_result",
          "data": {
            "text/plain": [
              "[('woman', 0.8529981374740601),\n",
              " ('guy', 0.8306294679641724),\n",
              " ('boy', 0.7724599242210388),\n",
              " ('lady', 0.765831708908081),\n",
              " ('girl', 0.7470220327377319),\n",
              " ('gentleman', 0.7448514103889465),\n",
              " ('soldier', 0.7266100645065308),\n",
              " ('kid', 0.7215229272842407),\n",
              " ('poet', 0.6889035701751709),\n",
              " ('rabbi', 0.680840015411377)]"
            ]
          },
          "metadata": {},
          "execution_count": 22
        }
      ]
    },
    {
      "cell_type": "code",
      "metadata": {
        "colab": {
          "base_uri": "https://localhost:8080/"
        },
        "id": "LWtrl6M3-WW6",
        "outputId": "3ca28426-d205-48e9-c3ec-d86e7a4e1c52"
      },
      "source": [
        "loaded_model.most_similar('man')"
      ],
      "execution_count": 23,
      "outputs": [
        {
          "output_type": "execute_result",
          "data": {
            "text/plain": [
              "[('woman', 0.8529981374740601),\n",
              " ('guy', 0.8306294679641724),\n",
              " ('boy', 0.7724599242210388),\n",
              " ('lady', 0.765831708908081),\n",
              " ('girl', 0.7470220327377319),\n",
              " ('gentleman', 0.7448514103889465),\n",
              " ('soldier', 0.7266100645065308),\n",
              " ('kid', 0.7215229272842407),\n",
              " ('poet', 0.6889035701751709),\n",
              " ('rabbi', 0.680840015411377)]"
            ]
          },
          "metadata": {},
          "execution_count": 23
        }
      ]
    },
    {
      "cell_type": "code",
      "metadata": {
        "colab": {
          "base_uri": "https://localhost:8080/"
        },
        "id": "ZsgmhRPO-vc2",
        "outputId": "5791aaf2-b913-416a-cd84-8e45e4524ceb"
      },
      "source": [
        "model.most_similar('man')"
      ],
      "execution_count": 24,
      "outputs": [
        {
          "output_type": "stream",
          "name": "stderr",
          "text": [
            "/usr/local/lib/python3.7/dist-packages/ipykernel_launcher.py:1: DeprecationWarning: Call to deprecated `most_similar` (Method will be removed in 4.0.0, use self.wv.most_similar() instead).\n",
            "  \"\"\"Entry point for launching an IPython kernel.\n"
          ]
        },
        {
          "output_type": "execute_result",
          "data": {
            "text/plain": [
              "[('woman', 0.8529981374740601),\n",
              " ('guy', 0.8306294679641724),\n",
              " ('boy', 0.7724599242210388),\n",
              " ('lady', 0.765831708908081),\n",
              " ('girl', 0.7470220327377319),\n",
              " ('gentleman', 0.7448514103889465),\n",
              " ('soldier', 0.7266100645065308),\n",
              " ('kid', 0.7215229272842407),\n",
              " ('poet', 0.6889035701751709),\n",
              " ('rabbi', 0.680840015411377)]"
            ]
          },
          "metadata": {},
          "execution_count": 24
        }
      ]
    },
    {
      "cell_type": "code",
      "metadata": {
        "id": "jhaGmUaq-zcj"
      },
      "source": [
        ""
      ],
      "execution_count": null,
      "outputs": []
    }
  ]
}