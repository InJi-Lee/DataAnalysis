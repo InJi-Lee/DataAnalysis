{
  "nbformat": 4,
  "nbformat_minor": 0,
  "metadata": {
    "colab": {
      "name": "05_유튜브_랭킹.ipynb",
      "provenance": [],
      "collapsed_sections": []
    },
    "kernelspec": {
      "name": "python3",
      "display_name": "Python 3"
    },
    "language_info": {
      "name": "python"
    }
  },
  "cells": [
    {
      "cell_type": "markdown",
      "metadata": {
        "id": "mKkWbzmdA1MF"
      },
      "source": [
        "# 유튜브 랭킹 데이터 수집하기\n",
        "- 직장인을 위한 데이터 분석 실무 with 파이썬 P.101"
      ]
    },
    {
      "cell_type": "code",
      "metadata": {
        "colab": {
          "base_uri": "https://localhost:8080/"
        },
        "id": "zocuAd-gBPc7",
        "outputId": "9a694ebe-c11d-4c37-895f-aadfc295c3d6"
      },
      "source": [
        "!apt-get update > /dev/null\n",
        "!pip install selenium > /dev/null\n",
        "!apt install chromium-chromedriver > /dev/null"
      ],
      "execution_count": 1,
      "outputs": [
        {
          "output_type": "stream",
          "text": [
            "\n",
            "WARNING: apt does not have a stable CLI interface. Use with caution in scripts.\n",
            "\n"
          ],
          "name": "stdout"
        }
      ]
    },
    {
      "cell_type": "code",
      "metadata": {
        "id": "yjo2r2TPBf7W"
      },
      "source": [
        "from selenium import webdriver\n",
        "from bs4 import BeautifulSoup\n",
        "import time\n",
        "import pandas as pd"
      ],
      "execution_count": 2,
      "outputs": []
    },
    {
      "cell_type": "code",
      "metadata": {
        "id": "bIi7u6SiCcue"
      },
      "source": [
        "options = webdriver.ChromeOptions()\n",
        "options.add_argument('--headless')   # 화면없이 실행\n",
        "options.add_argument('--no-sandbox')\n",
        "options.add_argument(\"--single-process\")\n",
        "options.add_argument(\"--disable-dev-shm-usage\")\n",
        "driver = webdriver.Chrome('chromedriver', options=options)"
      ],
      "execution_count": 3,
      "outputs": []
    },
    {
      "cell_type": "code",
      "metadata": {
        "id": "SH6gtO5HCjZJ"
      },
      "source": [
        "url = 'https://youtube-rank.com/board/bbs/board.php?bo_table=youtube&page=1'\n",
        "driver.get(url)\n",
        "# time.sleep(2)"
      ],
      "execution_count": 4,
      "outputs": []
    },
    {
      "cell_type": "code",
      "metadata": {
        "colab": {
          "base_uri": "https://localhost:8080/"
        },
        "id": "-6r_STqjDC0d",
        "outputId": "1e109819-4eba-434d-a109-640940465fe5"
      },
      "source": [
        "trs = driver.find_elements_by_css_selector('.aos-init')\n",
        "len(trs)"
      ],
      "execution_count": 5,
      "outputs": [
        {
          "output_type": "execute_result",
          "data": {
            "text/plain": [
              "100"
            ]
          },
          "metadata": {
            "tags": []
          },
          "execution_count": 5
        }
      ]
    },
    {
      "cell_type": "code",
      "metadata": {
        "id": "CNMTkW5sDj3n"
      },
      "source": [
        "html = driver.page_source\n",
        "soup = BeautifulSoup(html, 'html.parser')"
      ],
      "execution_count": 6,
      "outputs": []
    },
    {
      "cell_type": "code",
      "metadata": {
        "colab": {
          "base_uri": "https://localhost:8080/"
        },
        "id": "DC691RoAEFyF",
        "outputId": "efa8572c-ff93-43e4-ea42-ffef1991ac9c"
      },
      "source": [
        "# soup.select('form > table > tbody > tr')\n",
        "channel_list = soup.select('.aos-init')\n",
        "len(channel_list)"
      ],
      "execution_count": 7,
      "outputs": [
        {
          "output_type": "execute_result",
          "data": {
            "text/plain": [
              "100"
            ]
          },
          "metadata": {
            "tags": []
          },
          "execution_count": 7
        }
      ]
    },
    {
      "cell_type": "code",
      "metadata": {
        "colab": {
          "base_uri": "https://localhost:8080/",
          "height": 35
        },
        "id": "D78608nBERMQ",
        "outputId": "85e3aafb-e252-4845-9335-c2cf841d4099"
      },
      "source": [
        "channel = channel_list[0]\n",
        "category = channel.select_one('p.category').get_text().strip()\n",
        "category"
      ],
      "execution_count": 8,
      "outputs": [
        {
          "output_type": "execute_result",
          "data": {
            "application/vnd.google.colaboratory.intrinsic+json": {
              "type": "string"
            },
            "text/plain": [
              "'[음악/댄스/가수]'"
            ]
          },
          "metadata": {
            "tags": []
          },
          "execution_count": 8
        }
      ]
    },
    {
      "cell_type": "code",
      "metadata": {
        "colab": {
          "base_uri": "https://localhost:8080/",
          "height": 35
        },
        "id": "hFf_lZKqFGW3",
        "outputId": "648889d8-753f-4302-f77d-a399af365f74"
      },
      "source": [
        "name = channel.select_one('.subject a').text.strip()\n",
        "name"
      ],
      "execution_count": 9,
      "outputs": [
        {
          "output_type": "execute_result",
          "data": {
            "application/vnd.google.colaboratory.intrinsic+json": {
              "type": "string"
            },
            "text/plain": [
              "'BLACKPINK'"
            ]
          },
          "metadata": {
            "tags": []
          },
          "execution_count": 9
        }
      ]
    },
    {
      "cell_type": "code",
      "metadata": {
        "colab": {
          "base_uri": "https://localhost:8080/"
        },
        "id": "ONYSdzhIFnIV",
        "outputId": "40a94c9a-8308-41fc-dc13-b4b29a619c6c"
      },
      "source": [
        "subscriber = channel.select_one('.subscriber_cnt').text\n",
        "view = channel.select_one('.view_cnt').text\n",
        "video = channel.select_one('.video_cnt').text[:-1]\n",
        "subscriber, view, video"
      ],
      "execution_count": 10,
      "outputs": [
        {
          "output_type": "execute_result",
          "data": {
            "text/plain": [
              "('6400만', '190억0381만', '371')"
            ]
          },
          "metadata": {
            "tags": []
          },
          "execution_count": 10
        }
      ]
    },
    {
      "cell_type": "code",
      "metadata": {
        "id": "6Q8JzinYGKWu"
      },
      "source": [
        "channels = []\n",
        "for channel in channel_list:\n",
        "    category = channel.select_one('p.category').get_text().strip()\n",
        "    name = channel.select_one('.subject a').text.strip()\n",
        "    subscriber = channel.select_one('.subscriber_cnt').text\n",
        "    view = channel.select_one('.view_cnt').text\n",
        "    video = channel.select_one('.video_cnt').text[:-1]\n",
        "    channels.append([category,name,subscriber,view,video])"
      ],
      "execution_count": 11,
      "outputs": []
    },
    {
      "cell_type": "code",
      "metadata": {
        "colab": {
          "base_uri": "https://localhost:8080/",
          "height": 204
        },
        "id": "w_m114TjIFPf",
        "outputId": "0d9f2597-129f-4c35-e67b-9c11c6aa82c9"
      },
      "source": [
        "df = pd.DataFrame(channels, columns=['카테고리','채널명','구독자수','조회수','비디오수'])\n",
        "df.head()"
      ],
      "execution_count": 12,
      "outputs": [
        {
          "output_type": "execute_result",
          "data": {
            "text/html": [
              "<div>\n",
              "<style scoped>\n",
              "    .dataframe tbody tr th:only-of-type {\n",
              "        vertical-align: middle;\n",
              "    }\n",
              "\n",
              "    .dataframe tbody tr th {\n",
              "        vertical-align: top;\n",
              "    }\n",
              "\n",
              "    .dataframe thead th {\n",
              "        text-align: right;\n",
              "    }\n",
              "</style>\n",
              "<table border=\"1\" class=\"dataframe\">\n",
              "  <thead>\n",
              "    <tr style=\"text-align: right;\">\n",
              "      <th></th>\n",
              "      <th>카테고리</th>\n",
              "      <th>채널명</th>\n",
              "      <th>구독자수</th>\n",
              "      <th>조회수</th>\n",
              "      <th>비디오수</th>\n",
              "    </tr>\n",
              "  </thead>\n",
              "  <tbody>\n",
              "    <tr>\n",
              "      <th>0</th>\n",
              "      <td>[음악/댄스/가수]</td>\n",
              "      <td>BLACKPINK</td>\n",
              "      <td>6400만</td>\n",
              "      <td>190억0381만</td>\n",
              "      <td>371</td>\n",
              "    </tr>\n",
              "    <tr>\n",
              "      <th>1</th>\n",
              "      <td>[음악/댄스/가수]</td>\n",
              "      <td>HYBE LABELS</td>\n",
              "      <td>6030만</td>\n",
              "      <td>187억1305만</td>\n",
              "      <td>654</td>\n",
              "    </tr>\n",
              "    <tr>\n",
              "      <th>2</th>\n",
              "      <td>[음악/댄스/가수]</td>\n",
              "      <td>BANGTANTV</td>\n",
              "      <td>5640만</td>\n",
              "      <td>121억9496만</td>\n",
              "      <td>1,579</td>\n",
              "    </tr>\n",
              "    <tr>\n",
              "      <th>3</th>\n",
              "      <td>[음악/댄스/가수]</td>\n",
              "      <td>SMTOWN</td>\n",
              "      <td>2850만</td>\n",
              "      <td>218억7092만</td>\n",
              "      <td>3,729</td>\n",
              "    </tr>\n",
              "    <tr>\n",
              "      <th>4</th>\n",
              "      <td>[키즈/어린이]</td>\n",
              "      <td>Boram Tube Vlog [보람튜브 브이로그]</td>\n",
              "      <td>2650만</td>\n",
              "      <td>110억5288만</td>\n",
              "      <td>223</td>\n",
              "    </tr>\n",
              "  </tbody>\n",
              "</table>\n",
              "</div>"
            ],
            "text/plain": [
              "         카테고리                          채널명   구독자수        조회수   비디오수\n",
              "0  [음악/댄스/가수]                    BLACKPINK  6400만  190억0381만    371\n",
              "1  [음악/댄스/가수]                  HYBE LABELS  6030만  187억1305만    654\n",
              "2  [음악/댄스/가수]                    BANGTANTV  5640만  121억9496만  1,579\n",
              "3  [음악/댄스/가수]                       SMTOWN  2850만  218억7092만  3,729\n",
              "4    [키즈/어린이]  Boram Tube Vlog [보람튜브 브이로그]  2650만  110억5288만    223"
            ]
          },
          "metadata": {
            "tags": []
          },
          "execution_count": 12
        }
      ]
    },
    {
      "cell_type": "code",
      "metadata": {
        "colab": {
          "base_uri": "https://localhost:8080/",
          "height": 204
        },
        "id": "x3yBLn-kIbd9",
        "outputId": "38a49474-bd6d-4937-8ba5-2c4b6214385c"
      },
      "source": [
        "df.tail()"
      ],
      "execution_count": 13,
      "outputs": [
        {
          "output_type": "execute_result",
          "data": {
            "text/html": [
              "<div>\n",
              "<style scoped>\n",
              "    .dataframe tbody tr th:only-of-type {\n",
              "        vertical-align: middle;\n",
              "    }\n",
              "\n",
              "    .dataframe tbody tr th {\n",
              "        vertical-align: top;\n",
              "    }\n",
              "\n",
              "    .dataframe thead th {\n",
              "        text-align: right;\n",
              "    }\n",
              "</style>\n",
              "<table border=\"1\" class=\"dataframe\">\n",
              "  <thead>\n",
              "    <tr style=\"text-align: right;\">\n",
              "      <th></th>\n",
              "      <th>카테고리</th>\n",
              "      <th>채널명</th>\n",
              "      <th>구독자수</th>\n",
              "      <th>조회수</th>\n",
              "      <th>비디오수</th>\n",
              "    </tr>\n",
              "  </thead>\n",
              "  <tbody>\n",
              "    <tr>\n",
              "      <th>95</th>\n",
              "      <td>[음식/요리/레시피]</td>\n",
              "      <td>까니짱 [ G-NI ]</td>\n",
              "      <td>408만</td>\n",
              "      <td>10억3471만</td>\n",
              "      <td>482</td>\n",
              "    </tr>\n",
              "    <tr>\n",
              "      <th>96</th>\n",
              "      <td>[키즈/어린이]</td>\n",
              "      <td>로미유 스토리[Romiyu Story]</td>\n",
              "      <td>408만</td>\n",
              "      <td>10억6557만</td>\n",
              "      <td>433</td>\n",
              "    </tr>\n",
              "    <tr>\n",
              "      <th>97</th>\n",
              "      <td>[음악/댄스/가수]</td>\n",
              "      <td>NCT DREAM</td>\n",
              "      <td>386만</td>\n",
              "      <td>3억7422만</td>\n",
              "      <td>228</td>\n",
              "    </tr>\n",
              "    <tr>\n",
              "      <th>98</th>\n",
              "      <td>[BJ/인물/연예인]</td>\n",
              "      <td>허팝Heopop</td>\n",
              "      <td>381만</td>\n",
              "      <td>31억3892만</td>\n",
              "      <td>1,847</td>\n",
              "    </tr>\n",
              "    <tr>\n",
              "      <th>99</th>\n",
              "      <td>[취미/라이프]</td>\n",
              "      <td>JaeYeol ASMR 재열</td>\n",
              "      <td>380만</td>\n",
              "      <td>10억1154만</td>\n",
              "      <td>970</td>\n",
              "    </tr>\n",
              "  </tbody>\n",
              "</table>\n",
              "</div>"
            ],
            "text/plain": [
              "           카테고리                    채널명  구독자수       조회수   비디오수\n",
              "95  [음식/요리/레시피]           까니짱 [ G-NI ]  408만  10억3471만    482\n",
              "96     [키즈/어린이]  로미유 스토리[Romiyu Story]  408만  10억6557만    433\n",
              "97   [음악/댄스/가수]              NCT DREAM  386만   3억7422만    228\n",
              "98  [BJ/인물/연예인]               허팝Heopop  381만  31억3892만  1,847\n",
              "99     [취미/라이프]        JaeYeol ASMR 재열  380만  10억1154만    970"
            ]
          },
          "metadata": {
            "tags": []
          },
          "execution_count": 13
        }
      ]
    },
    {
      "cell_type": "markdown",
      "metadata": {
        "id": "EumF6aUPI7TQ"
      },
      "source": [
        "- 만과 억을 숫자로 바꿔주는 함수"
      ]
    },
    {
      "cell_type": "code",
      "metadata": {
        "id": "ABNvSATSIh8y"
      },
      "source": [
        "def convert_unit(s):\n",
        "    #s = ''.join(s.split('억'))\n",
        "    s = s.replace('억','').replace('개','').replace(',','')\n",
        "    s = s.replace('만', '0000')\n",
        "    return f'{int(s):,d}'"
      ],
      "execution_count": 14,
      "outputs": []
    },
    {
      "cell_type": "code",
      "metadata": {
        "colab": {
          "base_uri": "https://localhost:8080/",
          "height": 35
        },
        "id": "g9Bc498DJox8",
        "outputId": "58bd8051-7825-407d-c5ae-f87062fda509"
      },
      "source": [
        "convert_unit('10억6557만')"
      ],
      "execution_count": 15,
      "outputs": [
        {
          "output_type": "execute_result",
          "data": {
            "application/vnd.google.colaboratory.intrinsic+json": {
              "type": "string"
            },
            "text/plain": [
              "'1,065,570,000'"
            ]
          },
          "metadata": {
            "tags": []
          },
          "execution_count": 15
        }
      ]
    },
    {
      "cell_type": "markdown",
      "metadata": {
        "id": "P6srlgOQdCAG"
      },
      "source": [
        "- 두 번째 페이지 - XPath로 찾아 Click()하여 이동하기"
      ]
    },
    {
      "cell_type": "code",
      "metadata": {
        "id": "k7BcHMWXbhVC"
      },
      "source": [
        "# //*[@id=\"list-skin\"]/nav/span/a[1]\n",
        "driver.find_element_by_xpath('//*[@id=\"list-skin\"]/nav/span/a[1]').click()"
      ],
      "execution_count": 16,
      "outputs": []
    },
    {
      "cell_type": "code",
      "metadata": {
        "id": "ASxJRjfycLT4"
      },
      "source": [
        "html = driver.page_source\n",
        "soup = BeautifulSoup(html, 'html.parser')"
      ],
      "execution_count": 17,
      "outputs": []
    },
    {
      "cell_type": "code",
      "metadata": {
        "colab": {
          "base_uri": "https://localhost:8080/"
        },
        "id": "ARiSV9WJc8Na",
        "outputId": "c6bb581b-975d-466f-a0a1-6d1543e2b651"
      },
      "source": [
        "channel_list = soup.select('.aos-init')\n",
        "len(channel_list)"
      ],
      "execution_count": 18,
      "outputs": [
        {
          "output_type": "execute_result",
          "data": {
            "text/plain": [
              "100"
            ]
          },
          "metadata": {
            "tags": []
          },
          "execution_count": 18
        }
      ]
    },
    {
      "cell_type": "code",
      "metadata": {
        "id": "O-ybPvu6cW_w"
      },
      "source": [
        "results = []\n",
        "for channel in channel_list:\n",
        "    category = channel.select_one('p.category').get_text().strip('\\n[]')\n",
        "    name = channel.select_one('.subject a').text.strip()\n",
        "    subscriber = convert_unit(channel.select_one('.subscriber_cnt').text)\n",
        "    view = convert_unit(channel.select_one('.view_cnt').text)\n",
        "    video = convert_unit(channel.select_one('.video_cnt').text)\n",
        "    results.append([category,name,subscriber,view,video])"
      ],
      "execution_count": 19,
      "outputs": []
    },
    {
      "cell_type": "code",
      "metadata": {
        "colab": {
          "base_uri": "https://localhost:8080/",
          "height": 204
        },
        "id": "Tk-l0fDWdf08",
        "outputId": "02395eef-3c40-463d-e1e7-02dd1dcb774f"
      },
      "source": [
        "df = pd.DataFrame(channels, columns=['카테고리','채널명','구독자수','조회수','비디오수'])\n",
        "df.head()"
      ],
      "execution_count": 20,
      "outputs": [
        {
          "output_type": "execute_result",
          "data": {
            "text/html": [
              "<div>\n",
              "<style scoped>\n",
              "    .dataframe tbody tr th:only-of-type {\n",
              "        vertical-align: middle;\n",
              "    }\n",
              "\n",
              "    .dataframe tbody tr th {\n",
              "        vertical-align: top;\n",
              "    }\n",
              "\n",
              "    .dataframe thead th {\n",
              "        text-align: right;\n",
              "    }\n",
              "</style>\n",
              "<table border=\"1\" class=\"dataframe\">\n",
              "  <thead>\n",
              "    <tr style=\"text-align: right;\">\n",
              "      <th></th>\n",
              "      <th>카테고리</th>\n",
              "      <th>채널명</th>\n",
              "      <th>구독자수</th>\n",
              "      <th>조회수</th>\n",
              "      <th>비디오수</th>\n",
              "    </tr>\n",
              "  </thead>\n",
              "  <tbody>\n",
              "    <tr>\n",
              "      <th>0</th>\n",
              "      <td>[음악/댄스/가수]</td>\n",
              "      <td>BLACKPINK</td>\n",
              "      <td>6400만</td>\n",
              "      <td>190억0381만</td>\n",
              "      <td>371</td>\n",
              "    </tr>\n",
              "    <tr>\n",
              "      <th>1</th>\n",
              "      <td>[음악/댄스/가수]</td>\n",
              "      <td>HYBE LABELS</td>\n",
              "      <td>6030만</td>\n",
              "      <td>187억1305만</td>\n",
              "      <td>654</td>\n",
              "    </tr>\n",
              "    <tr>\n",
              "      <th>2</th>\n",
              "      <td>[음악/댄스/가수]</td>\n",
              "      <td>BANGTANTV</td>\n",
              "      <td>5640만</td>\n",
              "      <td>121억9496만</td>\n",
              "      <td>1,579</td>\n",
              "    </tr>\n",
              "    <tr>\n",
              "      <th>3</th>\n",
              "      <td>[음악/댄스/가수]</td>\n",
              "      <td>SMTOWN</td>\n",
              "      <td>2850만</td>\n",
              "      <td>218억7092만</td>\n",
              "      <td>3,729</td>\n",
              "    </tr>\n",
              "    <tr>\n",
              "      <th>4</th>\n",
              "      <td>[키즈/어린이]</td>\n",
              "      <td>Boram Tube Vlog [보람튜브 브이로그]</td>\n",
              "      <td>2650만</td>\n",
              "      <td>110억5288만</td>\n",
              "      <td>223</td>\n",
              "    </tr>\n",
              "  </tbody>\n",
              "</table>\n",
              "</div>"
            ],
            "text/plain": [
              "         카테고리                          채널명   구독자수        조회수   비디오수\n",
              "0  [음악/댄스/가수]                    BLACKPINK  6400만  190억0381만    371\n",
              "1  [음악/댄스/가수]                  HYBE LABELS  6030만  187억1305만    654\n",
              "2  [음악/댄스/가수]                    BANGTANTV  5640만  121억9496만  1,579\n",
              "3  [음악/댄스/가수]                       SMTOWN  2850만  218억7092만  3,729\n",
              "4    [키즈/어린이]  Boram Tube Vlog [보람튜브 브이로그]  2650만  110억5288만    223"
            ]
          },
          "metadata": {
            "tags": []
          },
          "execution_count": 20
        }
      ]
    },
    {
      "cell_type": "markdown",
      "metadata": {
        "id": "sO8l7_Fve9dr"
      },
      "source": [
        "## page 1에서 10까지 Crawling하기"
      ]
    },
    {
      "cell_type": "code",
      "metadata": {
        "id": "l2F-HdY6d1i8"
      },
      "source": [
        "results = []\n",
        "for page in range(1,11):\n",
        "    url = 'https://youtube-rank.com/board/bbs/board.php?bo_table=youtube&page='+str(page)\n",
        "    driver.get(url)\n",
        "    time.sleep(3)\n",
        "    html = driver.page_source\n",
        "    soup = BeautifulSoup(html, 'html.parser')\n",
        "    channel_list = soup.select('.aos-init')\n",
        "\n",
        "\n",
        "    for channel in channel_list:\n",
        "        category = channel.select_one('p.category').get_text().strip()\n",
        "        name = channel.select_one('.subject a').text.strip()\n",
        "        subscriber = convert_unit(channel.select_one('.subscriber_cnt').text)\n",
        "        view = convert_unit(channel.select_one('.view_cnt').text)\n",
        "        video = convert_unit(channel.select_one('.video_cnt').text)\n",
        "        results.append([category,name,subscriber,view,video])"
      ],
      "execution_count": 21,
      "outputs": []
    },
    {
      "cell_type": "code",
      "metadata": {
        "colab": {
          "base_uri": "https://localhost:8080/",
          "height": 204
        },
        "id": "fYOmIesXgI-C",
        "outputId": "3c5925e8-806f-4c65-db4e-c03f7eb48032"
      },
      "source": [
        "df = pd.DataFrame(results, columns=['카테고리','채널명','구독자수','조회수','비디오수'])\n",
        "df.head()"
      ],
      "execution_count": 22,
      "outputs": [
        {
          "output_type": "execute_result",
          "data": {
            "text/html": [
              "<div>\n",
              "<style scoped>\n",
              "    .dataframe tbody tr th:only-of-type {\n",
              "        vertical-align: middle;\n",
              "    }\n",
              "\n",
              "    .dataframe tbody tr th {\n",
              "        vertical-align: top;\n",
              "    }\n",
              "\n",
              "    .dataframe thead th {\n",
              "        text-align: right;\n",
              "    }\n",
              "</style>\n",
              "<table border=\"1\" class=\"dataframe\">\n",
              "  <thead>\n",
              "    <tr style=\"text-align: right;\">\n",
              "      <th></th>\n",
              "      <th>카테고리</th>\n",
              "      <th>채널명</th>\n",
              "      <th>구독자수</th>\n",
              "      <th>조회수</th>\n",
              "      <th>비디오수</th>\n",
              "    </tr>\n",
              "  </thead>\n",
              "  <tbody>\n",
              "    <tr>\n",
              "      <th>0</th>\n",
              "      <td>[음악/댄스/가수]</td>\n",
              "      <td>BLACKPINK</td>\n",
              "      <td>64,000,000</td>\n",
              "      <td>19,003,810,000</td>\n",
              "      <td>371</td>\n",
              "    </tr>\n",
              "    <tr>\n",
              "      <th>1</th>\n",
              "      <td>[음악/댄스/가수]</td>\n",
              "      <td>HYBE LABELS</td>\n",
              "      <td>60,300,000</td>\n",
              "      <td>18,713,050,000</td>\n",
              "      <td>654</td>\n",
              "    </tr>\n",
              "    <tr>\n",
              "      <th>2</th>\n",
              "      <td>[음악/댄스/가수]</td>\n",
              "      <td>BANGTANTV</td>\n",
              "      <td>56,400,000</td>\n",
              "      <td>12,194,960,000</td>\n",
              "      <td>1,579</td>\n",
              "    </tr>\n",
              "    <tr>\n",
              "      <th>3</th>\n",
              "      <td>[음악/댄스/가수]</td>\n",
              "      <td>SMTOWN</td>\n",
              "      <td>28,500,000</td>\n",
              "      <td>21,870,920,000</td>\n",
              "      <td>3,729</td>\n",
              "    </tr>\n",
              "    <tr>\n",
              "      <th>4</th>\n",
              "      <td>[키즈/어린이]</td>\n",
              "      <td>Boram Tube Vlog [보람튜브 브이로그]</td>\n",
              "      <td>26,500,000</td>\n",
              "      <td>11,052,880,000</td>\n",
              "      <td>223</td>\n",
              "    </tr>\n",
              "  </tbody>\n",
              "</table>\n",
              "</div>"
            ],
            "text/plain": [
              "         카테고리                          채널명        구독자수             조회수   비디오수\n",
              "0  [음악/댄스/가수]                    BLACKPINK  64,000,000  19,003,810,000    371\n",
              "1  [음악/댄스/가수]                  HYBE LABELS  60,300,000  18,713,050,000    654\n",
              "2  [음악/댄스/가수]                    BANGTANTV  56,400,000  12,194,960,000  1,579\n",
              "3  [음악/댄스/가수]                       SMTOWN  28,500,000  21,870,920,000  3,729\n",
              "4    [키즈/어린이]  Boram Tube Vlog [보람튜브 브이로그]  26,500,000  11,052,880,000    223"
            ]
          },
          "metadata": {
            "tags": []
          },
          "execution_count": 22
        }
      ]
    },
    {
      "cell_type": "code",
      "metadata": {
        "colab": {
          "base_uri": "https://localhost:8080/",
          "height": 204
        },
        "id": "BTPR5ZTWgdtO",
        "outputId": "d62e0ac6-9f54-4299-cd4c-4248f31d3e53"
      },
      "source": [
        "df.tail()"
      ],
      "execution_count": 23,
      "outputs": [
        {
          "output_type": "execute_result",
          "data": {
            "text/html": [
              "<div>\n",
              "<style scoped>\n",
              "    .dataframe tbody tr th:only-of-type {\n",
              "        vertical-align: middle;\n",
              "    }\n",
              "\n",
              "    .dataframe tbody tr th {\n",
              "        vertical-align: top;\n",
              "    }\n",
              "\n",
              "    .dataframe thead th {\n",
              "        text-align: right;\n",
              "    }\n",
              "</style>\n",
              "<table border=\"1\" class=\"dataframe\">\n",
              "  <thead>\n",
              "    <tr style=\"text-align: right;\">\n",
              "      <th></th>\n",
              "      <th>카테고리</th>\n",
              "      <th>채널명</th>\n",
              "      <th>구독자수</th>\n",
              "      <th>조회수</th>\n",
              "      <th>비디오수</th>\n",
              "    </tr>\n",
              "  </thead>\n",
              "  <tbody>\n",
              "    <tr>\n",
              "      <th>995</th>\n",
              "      <td>[게임]</td>\n",
              "      <td>미소</td>\n",
              "      <td>510,000</td>\n",
              "      <td>210,770,000</td>\n",
              "      <td>3,084</td>\n",
              "    </tr>\n",
              "    <tr>\n",
              "      <th>996</th>\n",
              "      <td>[미분류]</td>\n",
              "      <td>밉지않은 관종언니</td>\n",
              "      <td>510,000</td>\n",
              "      <td>67,740,000</td>\n",
              "      <td>170</td>\n",
              "    </tr>\n",
              "    <tr>\n",
              "      <th>997</th>\n",
              "      <td>[미분류]</td>\n",
              "      <td>복지마블TV [Welfare Marble]</td>\n",
              "      <td>510,000</td>\n",
              "      <td>49,960,000</td>\n",
              "      <td>240</td>\n",
              "    </tr>\n",
              "    <tr>\n",
              "      <th>998</th>\n",
              "      <td>[음식/요리/레시피]</td>\n",
              "      <td>Muggo</td>\n",
              "      <td>510,000</td>\n",
              "      <td>183,720,000</td>\n",
              "      <td>1,388</td>\n",
              "    </tr>\n",
              "    <tr>\n",
              "      <th>999</th>\n",
              "      <td>[게임]</td>\n",
              "      <td>임선비</td>\n",
              "      <td>510,000</td>\n",
              "      <td>234,290,000</td>\n",
              "      <td>1,134</td>\n",
              "    </tr>\n",
              "  </tbody>\n",
              "</table>\n",
              "</div>"
            ],
            "text/plain": [
              "            카테고리                      채널명     구독자수          조회수   비디오수\n",
              "995         [게임]                       미소  510,000  210,770,000  3,084\n",
              "996        [미분류]                밉지않은 관종언니  510,000   67,740,000    170\n",
              "997        [미분류]  복지마블TV [Welfare Marble]  510,000   49,960,000    240\n",
              "998  [음식/요리/레시피]                    Muggo  510,000  183,720,000  1,388\n",
              "999         [게임]                      임선비  510,000  234,290,000  1,134"
            ]
          },
          "metadata": {
            "tags": []
          },
          "execution_count": 23
        }
      ]
    },
    {
      "cell_type": "code",
      "metadata": {
        "id": "l44wBBf2ggUM"
      },
      "source": [
        "df.to_csv('유튜브_순위.csv', index=False)"
      ],
      "execution_count": 24,
      "outputs": []
    },
    {
      "cell_type": "code",
      "metadata": {
        "id": "8OJtrNT-hVRZ"
      },
      "source": [
        "driver.close()"
      ],
      "execution_count": 25,
      "outputs": []
    },
    {
      "cell_type": "code",
      "metadata": {
        "id": "57KOzVRqhXgI"
      },
      "source": [
        ""
      ],
      "execution_count": null,
      "outputs": []
    }
  ]
}