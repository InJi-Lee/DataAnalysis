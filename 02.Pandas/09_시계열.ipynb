{
  "nbformat": 4,
  "nbformat_minor": 0,
  "metadata": {
    "colab": {
      "name": "09_시계열.ipynb",
      "provenance": [],
      "collapsed_sections": []
    },
    "kernelspec": {
      "name": "python3",
      "display_name": "Python 3"
    },
    "language_info": {
      "name": "python"
    }
  },
  "cells": [
    {
      "cell_type": "markdown",
      "metadata": {
        "id": "4s2H3JIs3oyF"
      },
      "source": [
        ""
      ]
    },
    {
      "cell_type": "markdown",
      "metadata": {
        "id": "heHdjmc_3qCw"
      },
      "source": [
        "# 시계열 자료 다루기"
      ]
    },
    {
      "cell_type": "code",
      "metadata": {
        "id": "ePGdmNST3fVu"
      },
      "source": [
        "import numpy as np\n",
        "import pandas as pd"
      ],
      "execution_count": 1,
      "outputs": []
    },
    {
      "cell_type": "markdown",
      "metadata": {
        "id": "-LnJQ02W3xXQ"
      },
      "source": [
        "## DatetimeIndex 인덱스"
      ]
    },
    {
      "cell_type": "code",
      "metadata": {
        "colab": {
          "base_uri": "https://localhost:8080/"
        },
        "id": "fAmpL5kk3wBE",
        "outputId": "32f84625-881d-4a8b-b001-004acd45910f"
      },
      "source": [
        "date_str = ['2021, 8, 10','2021-8-11','20210812','2021.8.13','081421','15/8/21']\n",
        "idx = pd.to_datetime(date_str)\n",
        "idx"
      ],
      "execution_count": 6,
      "outputs": [
        {
          "output_type": "execute_result",
          "data": {
            "text/plain": [
              "DatetimeIndex(['2021-08-10', '2021-08-11', '2021-08-12', '2021-08-13',\n",
              "               '2021-08-14', '2021-08-15'],\n",
              "              dtype='datetime64[ns]', freq=None)"
            ]
          },
          "metadata": {
            "tags": []
          },
          "execution_count": 6
        }
      ]
    },
    {
      "cell_type": "code",
      "metadata": {
        "colab": {
          "base_uri": "https://localhost:8080/"
        },
        "id": "2tjSpU1R4mck",
        "outputId": "682d3a3a-7eb7-4bc3-ebd2-218c231336b8"
      },
      "source": [
        "np.random.seed(2021)\n",
        "s = pd.Series(np.random.randn(6), index=idx)\n",
        "s"
      ],
      "execution_count": 8,
      "outputs": [
        {
          "output_type": "execute_result",
          "data": {
            "text/plain": [
              "2021-08-10    1.488609\n",
              "2021-08-11    0.676011\n",
              "2021-08-12   -0.418451\n",
              "2021-08-13   -0.806521\n",
              "2021-08-14    0.555876\n",
              "2021-08-15   -0.705504\n",
              "dtype: float64"
            ]
          },
          "metadata": {
            "tags": []
          },
          "execution_count": 8
        }
      ]
    },
    {
      "cell_type": "code",
      "metadata": {
        "colab": {
          "base_uri": "https://localhost:8080/"
        },
        "id": "LacA8Wmw5n4H",
        "outputId": "e811b6dc-98c3-4767-c632-04ed60ec0673"
      },
      "source": [
        "pd.date_range('20210801','2021-8-31')"
      ],
      "execution_count": 9,
      "outputs": [
        {
          "output_type": "execute_result",
          "data": {
            "text/plain": [
              "DatetimeIndex(['2021-08-01', '2021-08-02', '2021-08-03', '2021-08-04',\n",
              "               '2021-08-05', '2021-08-06', '2021-08-07', '2021-08-08',\n",
              "               '2021-08-09', '2021-08-10', '2021-08-11', '2021-08-12',\n",
              "               '2021-08-13', '2021-08-14', '2021-08-15', '2021-08-16',\n",
              "               '2021-08-17', '2021-08-18', '2021-08-19', '2021-08-20',\n",
              "               '2021-08-21', '2021-08-22', '2021-08-23', '2021-08-24',\n",
              "               '2021-08-25', '2021-08-26', '2021-08-27', '2021-08-28',\n",
              "               '2021-08-29', '2021-08-30', '2021-08-31'],\n",
              "              dtype='datetime64[ns]', freq='D')"
            ]
          },
          "metadata": {
            "tags": []
          },
          "execution_count": 9
        }
      ]
    },
    {
      "cell_type": "code",
      "metadata": {
        "colab": {
          "base_uri": "https://localhost:8080/"
        },
        "id": "wrzdBLrW5_63",
        "outputId": "be8ea65b-7add-46c8-a4c6-3fc25f2dd90f"
      },
      "source": [
        "# 일(day)\n",
        "pd.date_range('20210801',periods=31)"
      ],
      "execution_count": 10,
      "outputs": [
        {
          "output_type": "execute_result",
          "data": {
            "text/plain": [
              "DatetimeIndex(['2021-08-01', '2021-08-02', '2021-08-03', '2021-08-04',\n",
              "               '2021-08-05', '2021-08-06', '2021-08-07', '2021-08-08',\n",
              "               '2021-08-09', '2021-08-10', '2021-08-11', '2021-08-12',\n",
              "               '2021-08-13', '2021-08-14', '2021-08-15', '2021-08-16',\n",
              "               '2021-08-17', '2021-08-18', '2021-08-19', '2021-08-20',\n",
              "               '2021-08-21', '2021-08-22', '2021-08-23', '2021-08-24',\n",
              "               '2021-08-25', '2021-08-26', '2021-08-27', '2021-08-28',\n",
              "               '2021-08-29', '2021-08-30', '2021-08-31'],\n",
              "              dtype='datetime64[ns]', freq='D')"
            ]
          },
          "metadata": {
            "tags": []
          },
          "execution_count": 10
        }
      ]
    },
    {
      "cell_type": "code",
      "metadata": {
        "colab": {
          "base_uri": "https://localhost:8080/"
        },
        "id": "5zao5zQf6N5d",
        "outputId": "8fe0954a-5c73-45b1-924f-e61cb8bfbb90"
      },
      "source": [
        "# Biz-day\n",
        "pd.date_range('20210801', periods=31, freq='B')"
      ],
      "execution_count": 11,
      "outputs": [
        {
          "output_type": "execute_result",
          "data": {
            "text/plain": [
              "DatetimeIndex(['2021-08-02', '2021-08-03', '2021-08-04', '2021-08-05',\n",
              "               '2021-08-06', '2021-08-09', '2021-08-10', '2021-08-11',\n",
              "               '2021-08-12', '2021-08-13', '2021-08-16', '2021-08-17',\n",
              "               '2021-08-18', '2021-08-19', '2021-08-20', '2021-08-23',\n",
              "               '2021-08-24', '2021-08-25', '2021-08-26', '2021-08-27',\n",
              "               '2021-08-30', '2021-08-31', '2021-09-01', '2021-09-02',\n",
              "               '2021-09-03', '2021-09-06', '2021-09-07', '2021-09-08',\n",
              "               '2021-09-09', '2021-09-10', '2021-09-13'],\n",
              "              dtype='datetime64[ns]', freq='B')"
            ]
          },
          "metadata": {
            "tags": []
          },
          "execution_count": 11
        }
      ]
    },
    {
      "cell_type": "code",
      "metadata": {
        "colab": {
          "base_uri": "https://localhost:8080/"
        },
        "id": "qGghVYGh9an8",
        "outputId": "3cc23026-7cc8-439f-e9e5-3e3c0a3fe077"
      },
      "source": [
        "# 일요일(W)\n",
        "pd.date_range('20210801', '20210831', freq='W')"
      ],
      "execution_count": 12,
      "outputs": [
        {
          "output_type": "execute_result",
          "data": {
            "text/plain": [
              "DatetimeIndex(['2021-08-01', '2021-08-08', '2021-08-15', '2021-08-22',\n",
              "               '2021-08-29'],\n",
              "              dtype='datetime64[ns]', freq='W-SUN')"
            ]
          },
          "metadata": {
            "tags": []
          },
          "execution_count": 12
        }
      ]
    },
    {
      "cell_type": "markdown",
      "metadata": {
        "id": "OZsAjn7w-WDS"
      },
      "source": [
        "## resample 연산\n"
      ]
    },
    {
      "cell_type": "code",
      "metadata": {
        "colab": {
          "base_uri": "https://localhost:8080/"
        },
        "id": "1xTF4qWF9-o_",
        "outputId": "386df43b-6fec-4a0a-bd8f-2dd1efa77269"
      },
      "source": [
        "ts = pd.Series(np.random.randn(100),\n",
        "               index=pd.date_range(\"2021-1-1\", periods=100))\n",
        "ts.tail(20)"
      ],
      "execution_count": 13,
      "outputs": [
        {
          "output_type": "execute_result",
          "data": {
            "text/plain": [
              "2021-03-22    0.629269\n",
              "2021-03-23    0.361891\n",
              "2021-03-24    3.638726\n",
              "2021-03-25   -1.201221\n",
              "2021-03-26   -1.330033\n",
              "2021-03-27    1.261033\n",
              "2021-03-28   -0.648126\n",
              "2021-03-29    2.245300\n",
              "2021-03-30   -1.012394\n",
              "2021-03-31   -0.125939\n",
              "2021-04-01   -0.432416\n",
              "2021-04-02    0.425937\n",
              "2021-04-03    0.756636\n",
              "2021-04-04   -0.994854\n",
              "2021-04-05   -0.740574\n",
              "2021-04-06    0.458233\n",
              "2021-04-07    1.257247\n",
              "2021-04-08   -0.441704\n",
              "2021-04-09    0.541335\n",
              "2021-04-10    0.567278\n",
              "Freq: D, dtype: float64"
            ]
          },
          "metadata": {
            "tags": []
          },
          "execution_count": 13
        }
      ]
    },
    {
      "cell_type": "code",
      "metadata": {
        "colab": {
          "base_uri": "https://localhost:8080/"
        },
        "id": "sx5Sy_ni-tWl",
        "outputId": "5f1a3f4b-b498-409b-87b1-534a9442f5c4"
      },
      "source": [
        "ts.resample('W').mean()"
      ],
      "execution_count": 14,
      "outputs": [
        {
          "output_type": "execute_result",
          "data": {
            "text/plain": [
              "2021-01-03    0.627425\n",
              "2021-01-10   -0.083903\n",
              "2021-01-17    0.068879\n",
              "2021-01-24    0.361419\n",
              "2021-01-31    0.370296\n",
              "2021-02-07   -0.106958\n",
              "2021-02-14   -0.088102\n",
              "2021-02-21   -0.304320\n",
              "2021-02-28    0.451788\n",
              "2021-03-07    0.300178\n",
              "2021-03-14   -0.328079\n",
              "2021-03-21    0.340823\n",
              "2021-03-28    0.387363\n",
              "2021-04-04    0.123181\n",
              "2021-04-11    0.273636\n",
              "Freq: W-SUN, dtype: float64"
            ]
          },
          "metadata": {
            "tags": []
          },
          "execution_count": 14
        }
      ]
    },
    {
      "cell_type": "code",
      "metadata": {
        "colab": {
          "base_uri": "https://localhost:8080/"
        },
        "id": "9xoC4mrd-0dl",
        "outputId": "56e5b91c-30c3-4df0-8842-b8ba1583b585"
      },
      "source": [
        "ts.resample('M').first()"
      ],
      "execution_count": 15,
      "outputs": [
        {
          "output_type": "execute_result",
          "data": {
            "text/plain": [
              "2021-01-31    1.130858\n",
              "2021-02-28   -0.161508\n",
              "2021-03-31   -0.654448\n",
              "2021-04-30   -0.432416\n",
              "Freq: M, dtype: float64"
            ]
          },
          "metadata": {
            "tags": []
          },
          "execution_count": 15
        }
      ]
    },
    {
      "cell_type": "code",
      "metadata": {
        "id": "NDF1QGGB_a8l"
      },
      "source": [
        ""
      ],
      "execution_count": null,
      "outputs": []
    }
  ]
}