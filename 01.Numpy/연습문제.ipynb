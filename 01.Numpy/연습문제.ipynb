{
  "nbformat": 4,
  "nbformat_minor": 0,
  "metadata": {
    "colab": {
      "name": "연습문제.ipynb",
      "provenance": [],
      "collapsed_sections": []
    },
    "kernelspec": {
      "name": "python3",
      "display_name": "Python 3"
    },
    "language_info": {
      "name": "python"
    }
  },
  "cells": [
    {
      "cell_type": "markdown",
      "metadata": {
        "id": "gDL6pDC5K8gp"
      },
      "source": [
        "# Q1. 넘파이를 사용하여 다음과 같은 행렬을 만드시오.\n",
        "### 10 20 30 40\n",
        "### 50 60 70 80"
      ]
    },
    {
      "cell_type": "code",
      "metadata": {
        "colab": {
          "base_uri": "https://localhost:8080/"
        },
        "id": "ATf-1PsPK3jf",
        "outputId": "bce96073-3da7-41d0-f9ad-035d3be3564e"
      },
      "source": [
        "import numpy as np\n",
        "a = np.array([(10,20,30,40), (50,60,70,80)])\n",
        "a"
      ],
      "execution_count": 2,
      "outputs": [
        {
          "output_type": "execute_result",
          "data": {
            "text/plain": [
              "array([[10, 20, 30, 40],\n",
              "       [50, 60, 70, 80]])"
            ]
          },
          "metadata": {
            "tags": []
          },
          "execution_count": 2
        }
      ]
    },
    {
      "cell_type": "code",
      "metadata": {
        "colab": {
          "base_uri": "https://localhost:8080/"
        },
        "id": "RjPq2cnslAtZ",
        "outputId": "f5744321-ab5b-4316-b931-480df346d9c8"
      },
      "source": [
        "np.arange(1,9).reshape(2,4) * 10"
      ],
      "execution_count": 11,
      "outputs": [
        {
          "output_type": "execute_result",
          "data": {
            "text/plain": [
              "array([[10, 20, 30, 40],\n",
              "       [50, 60, 70, 80]])"
            ]
          },
          "metadata": {
            "tags": []
          },
          "execution_count": 11
        }
      ]
    },
    {
      "cell_type": "markdown",
      "metadata": {
        "id": "tX2AQcWVcCOu"
      },
      "source": [
        "# Q2. 다음 행렬과 같은 행렬이 있다\n"
      ]
    },
    {
      "cell_type": "code",
      "metadata": {
        "id": "y11iw4NWcrQT"
      },
      "source": [
        "###\n",
        "m =\n",
        "np.array ([[ 0, 1, 2, 3, 4],\n",
        "           [ 5, 6, 7, 8, 9],\n",
        "           [10, 11, 12, 13, 14]],)\n",
        "###"
      ],
      "execution_count": null,
      "outputs": []
    },
    {
      "cell_type": "code",
      "metadata": {
        "colab": {
          "base_uri": "https://localhost:8080/"
        },
        "id": "QUkF13qbfi0k",
        "outputId": "3047c7a0-4099-48f0-9f43-24123d613525"
      },
      "source": [
        "import numpy as np\n",
        "a = np.array([(0,1,2,3,4), (5,6,7,8,9), (10,11,12,13,14)], int)\n",
        "a"
      ],
      "execution_count": 6,
      "outputs": [
        {
          "output_type": "execute_result",
          "data": {
            "text/plain": [
              "array([[ 0,  1,  2,  3,  4],\n",
              "       [ 5,  6,  7,  8,  9],\n",
              "       [10, 11, 12, 13, 14]])"
            ]
          },
          "metadata": {
            "tags": []
          },
          "execution_count": 6
        }
      ]
    },
    {
      "cell_type": "code",
      "metadata": {
        "colab": {
          "base_uri": "https://localhost:8080/"
        },
        "id": "H-F1veV_lPN8",
        "outputId": "0c233885-836a-4a2b-e24d-4dd9f1a5784b"
      },
      "source": [
        "a = np.arange(15).reshape(3,5)\n",
        "a"
      ],
      "execution_count": 13,
      "outputs": [
        {
          "output_type": "execute_result",
          "data": {
            "text/plain": [
              "array([[ 0,  1,  2,  3,  4],\n",
              "       [ 5,  6,  7,  8,  9],\n",
              "       [10, 11, 12, 13, 14]])"
            ]
          },
          "metadata": {
            "tags": []
          },
          "execution_count": 13
        }
      ]
    },
    {
      "cell_type": "markdown",
      "metadata": {
        "id": "0ov8W3OudqBW"
      },
      "source": [
        "### 1. 이 행렬에서 값 7을 인덱싱한다."
      ]
    },
    {
      "cell_type": "code",
      "metadata": {
        "colab": {
          "base_uri": "https://localhost:8080/"
        },
        "id": "gaKxV1xic7fQ",
        "outputId": "c2f575a2-62d5-4596-efe1-397763ec4378"
      },
      "source": [
        "print(a[1,2])"
      ],
      "execution_count": 7,
      "outputs": [
        {
          "output_type": "stream",
          "text": [
            "7\n"
          ],
          "name": "stdout"
        }
      ]
    },
    {
      "cell_type": "markdown",
      "metadata": {
        "id": "pPP15iNHd7Hk"
      },
      "source": [
        "### 2. 이 행렬에서 값 14 을 인덱싱한다."
      ]
    },
    {
      "cell_type": "code",
      "metadata": {
        "colab": {
          "base_uri": "https://localhost:8080/"
        },
        "id": "WWNXOA8wd--q",
        "outputId": "cb110b60-fdd2-4b8b-c8ca-26f54cdb1940"
      },
      "source": [
        "print(a[2,4])"
      ],
      "execution_count": 8,
      "outputs": [
        {
          "output_type": "stream",
          "text": [
            "14\n"
          ],
          "name": "stdout"
        }
      ]
    },
    {
      "cell_type": "markdown",
      "metadata": {
        "id": "3Q6PBivbeFTS"
      },
      "source": [
        "### 3. 이 행렬에서 배열 [6,7] 을 슬라이싱한다."
      ]
    },
    {
      "cell_type": "code",
      "metadata": {
        "colab": {
          "base_uri": "https://localhost:8080/"
        },
        "id": "gyka7z5WeLm0",
        "outputId": "3708b0bd-106e-4caf-89c6-35e14e0e7efb"
      },
      "source": [
        "a[1, 1:3]"
      ],
      "execution_count": 9,
      "outputs": [
        {
          "output_type": "execute_result",
          "data": {
            "text/plain": [
              "array([6, 7])"
            ]
          },
          "metadata": {
            "tags": []
          },
          "execution_count": 9
        }
      ]
    },
    {
      "cell_type": "markdown",
      "metadata": {
        "id": "Xl3O6skQeMJk"
      },
      "source": [
        "### 4. 이 행렬에서 배열 [7, 12] 을 슬라이싱한다"
      ]
    },
    {
      "cell_type": "code",
      "metadata": {
        "colab": {
          "base_uri": "https://localhost:8080/"
        },
        "id": "roPVBTfpeUhe",
        "outputId": "9280c995-02b7-4301-dc19-4eea08f0d27a"
      },
      "source": [
        "a[1:, 2]"
      ],
      "execution_count": 14,
      "outputs": [
        {
          "output_type": "execute_result",
          "data": {
            "text/plain": [
              "array([ 7, 12])"
            ]
          },
          "metadata": {
            "tags": []
          },
          "execution_count": 14
        }
      ]
    },
    {
      "cell_type": "markdown",
      "metadata": {
        "id": "FgxXyodHeWbx"
      },
      "source": [
        "### 5. 이 행렬에서 배열 [[3, 4], [8, 9]] 을 슬라이싱한다\n"
      ]
    },
    {
      "cell_type": "code",
      "metadata": {
        "colab": {
          "base_uri": "https://localhost:8080/"
        },
        "id": "nOCP0m4gebHE",
        "outputId": "d0bc6d53-8089-4651-edf7-99ddf809bbae"
      },
      "source": [
        "a[:2, 3:]"
      ],
      "execution_count": 15,
      "outputs": [
        {
          "output_type": "execute_result",
          "data": {
            "text/plain": [
              "array([[3, 4],\n",
              "       [8, 9]])"
            ]
          },
          "metadata": {
            "tags": []
          },
          "execution_count": 15
        }
      ]
    },
    {
      "cell_type": "markdown",
      "metadata": {
        "id": "zMJJKrbZedOm"
      },
      "source": [
        "# Q3. 2 번의 행렬 m 을 1 차원 벡터 f 로 변환한 후 다음의 문제를 푸시오\n",
        "- Boolean Indexing"
      ]
    },
    {
      "cell_type": "code",
      "metadata": {
        "id": "CRoDL7OJmNk3"
      },
      "source": [
        "f = a.flatten()"
      ],
      "execution_count": 16,
      "outputs": []
    },
    {
      "cell_type": "markdown",
      "metadata": {
        "id": "Dg3KCTvKgWNm"
      },
      "source": [
        "### 1. 이 배열에서 3 의 배수를 찾아라"
      ]
    },
    {
      "cell_type": "code",
      "metadata": {
        "colab": {
          "base_uri": "https://localhost:8080/"
        },
        "id": "xKwuUAqDeilO",
        "outputId": "055efae0-7360-4ae6-86f5-97d435fbb628"
      },
      "source": [
        "f[f % 3 == 0]"
      ],
      "execution_count": 17,
      "outputs": [
        {
          "output_type": "execute_result",
          "data": {
            "text/plain": [
              "array([ 0,  3,  6,  9, 12])"
            ]
          },
          "metadata": {
            "tags": []
          },
          "execution_count": 17
        }
      ]
    },
    {
      "cell_type": "markdown",
      "metadata": {
        "id": "y8kpO59UgaAR"
      },
      "source": [
        "### 2. 이 배열에서 4 로 나누면 1 이 남는 수를 찾아라"
      ]
    },
    {
      "cell_type": "code",
      "metadata": {
        "colab": {
          "base_uri": "https://localhost:8080/"
        },
        "id": "W157m7q2gcu1",
        "outputId": "a812eed2-b150-4399-d6b2-e8bcb21fcbf1"
      },
      "source": [
        "f[f % 4 == 1]"
      ],
      "execution_count": 18,
      "outputs": [
        {
          "output_type": "execute_result",
          "data": {
            "text/plain": [
              "array([ 1,  5,  9, 13])"
            ]
          },
          "metadata": {
            "tags": []
          },
          "execution_count": 18
        }
      ]
    },
    {
      "cell_type": "markdown",
      "metadata": {
        "id": "4yoz8v4vgeOk"
      },
      "source": [
        "### 3. 이 배열에서 3 으로 나누면 나누어지고 4 로 나누면 1 이 남는 수를 찾아라"
      ]
    },
    {
      "cell_type": "code",
      "metadata": {
        "colab": {
          "base_uri": "https://localhost:8080/"
        },
        "id": "f5IWXyftggqP",
        "outputId": "b36e7933-cba6-4f14-f6a3-6666dc7dcade"
      },
      "source": [
        "f[np.logical_and(f % 3 == 0, f % 4 == 1)]"
      ],
      "execution_count": 20,
      "outputs": [
        {
          "output_type": "execute_result",
          "data": {
            "text/plain": [
              "array([9])"
            ]
          },
          "metadata": {
            "tags": []
          },
          "execution_count": 20
        }
      ]
    },
    {
      "cell_type": "markdown",
      "metadata": {
        "id": "vaY-dN7FiBmE"
      },
      "source": [
        "# Q4. 값을 직접 입력하지 말고 우측의 행렬을 만드시오.\n",
        "- eye로 행렬 만들기"
      ]
    },
    {
      "cell_type": "code",
      "metadata": {
        "colab": {
          "base_uri": "https://localhost:8080/"
        },
        "id": "hfBYkZjwiF0r",
        "outputId": "0105b7bd-3564-42ea-95b5-2e4322392752"
      },
      "source": [
        "np.eye(5,5,k=-1) * 3 + np.eye(5,5) * 2 + np.eye(5,5,k=1)"
      ],
      "execution_count": 21,
      "outputs": [
        {
          "output_type": "execute_result",
          "data": {
            "text/plain": [
              "array([[2., 1., 0., 0., 0.],\n",
              "       [3., 2., 1., 0., 0.],\n",
              "       [0., 3., 2., 1., 0.],\n",
              "       [0., 0., 3., 2., 1.],\n",
              "       [0., 0., 0., 3., 2.]])"
            ]
          },
          "metadata": {
            "tags": []
          },
          "execution_count": 21
        }
      ]
    },
    {
      "cell_type": "markdown",
      "metadata": {
        "id": "Z0JLgq2riLNe"
      },
      "source": [
        "# Q5. 0 에서 10 까지 랜덤 실수값으로 이루어진 5 x 6 형태의 데이터 행렬을 만들고 이 데이터에 대해 다음과 같은 값을 구하시오"
      ]
    },
    {
      "cell_type": "code",
      "metadata": {
        "colab": {
          "base_uri": "https://localhost:8080/"
        },
        "id": "kv_Aqw5EnBYz",
        "outputId": "e48e99b6-232a-41c4-8103-25780e6f7a40"
      },
      "source": [
        "np.random.seed(2021)\n",
        "b = np.random.uniform(0,10,30).reshape(5,6)\n",
        "b"
      ],
      "execution_count": 24,
      "outputs": [
        {
          "output_type": "execute_result",
          "data": {
            "text/plain": [
              "array([[6.05978279, 7.33369361, 1.38947157, 3.12673084, 9.97243281,\n",
              "        1.28162375],\n",
              "       [1.78993106, 7.52925429, 6.62160514, 7.84310132, 0.96894396,\n",
              "        0.58571285],\n",
              "       [9.6239599 , 6.16557444, 0.86629961, 5.61272363, 6.16524709,\n",
              "        9.63843023],\n",
              "       [5.74304294, 3.71160848, 4.52145244, 2.01850248, 5.69305118,\n",
              "        1.95095974],\n",
              "       [5.83704016, 4.76313474, 5.178144  , 8.23098634, 7.32225027,\n",
              "        0.69056275]])"
            ]
          },
          "metadata": {
            "tags": []
          },
          "execution_count": 24
        }
      ]
    },
    {
      "cell_type": "code",
      "metadata": {
        "colab": {
          "base_uri": "https://localhost:8080/"
        },
        "id": "V_nQINCFndNV",
        "outputId": "f465b4d3-f5ad-4e57-acf8-aecd520d9183"
      },
      "source": [
        "np.random.seed(2021)\n",
        "b = np.random.uniform(0,10,30).reshape(5,6).round(4)\n",
        "b"
      ],
      "execution_count": 25,
      "outputs": [
        {
          "output_type": "execute_result",
          "data": {
            "text/plain": [
              "array([[6.0598, 7.3337, 1.3895, 3.1267, 9.9724, 1.2816],\n",
              "       [1.7899, 7.5293, 6.6216, 7.8431, 0.9689, 0.5857],\n",
              "       [9.624 , 6.1656, 0.8663, 5.6127, 6.1652, 9.6384],\n",
              "       [5.743 , 3.7116, 4.5215, 2.0185, 5.6931, 1.951 ],\n",
              "       [5.837 , 4.7631, 5.1781, 8.231 , 7.3223, 0.6906]])"
            ]
          },
          "metadata": {
            "tags": []
          },
          "execution_count": 25
        }
      ]
    },
    {
      "cell_type": "markdown",
      "metadata": {
        "id": "6ruV0kKFiQhI"
      },
      "source": [
        "### 1. 전체의 최댓값"
      ]
    },
    {
      "cell_type": "code",
      "metadata": {
        "colab": {
          "base_uri": "https://localhost:8080/"
        },
        "id": "gaqrQO4AiPQS",
        "outputId": "7703c10b-154a-4e14-d47e-c4acee518f0d"
      },
      "source": [
        "np.max(b)"
      ],
      "execution_count": 26,
      "outputs": [
        {
          "output_type": "execute_result",
          "data": {
            "text/plain": [
              "9.9724"
            ]
          },
          "metadata": {
            "tags": []
          },
          "execution_count": 26
        }
      ]
    },
    {
      "cell_type": "markdown",
      "metadata": {
        "id": "nNfLFBtXiT8w"
      },
      "source": [
        "### 2. 각 행의 합"
      ]
    },
    {
      "cell_type": "code",
      "metadata": {
        "colab": {
          "base_uri": "https://localhost:8080/"
        },
        "id": "VXJ0m19QiWc9",
        "outputId": "eb33e4df-77b2-4d32-b481-2e6e8f8d5c56"
      },
      "source": [
        "np.sum(b, axis=1)"
      ],
      "execution_count": 27,
      "outputs": [
        {
          "output_type": "execute_result",
          "data": {
            "text/plain": [
              "array([29.1637, 25.3385, 38.0722, 23.6387, 32.0221])"
            ]
          },
          "metadata": {
            "tags": []
          },
          "execution_count": 27
        }
      ]
    },
    {
      "cell_type": "markdown",
      "metadata": {
        "id": "uxyWKxC_iXHv"
      },
      "source": [
        "### 3. 각 행의 최댓값"
      ]
    },
    {
      "cell_type": "code",
      "metadata": {
        "colab": {
          "base_uri": "https://localhost:8080/"
        },
        "id": "C3ywF9TZiZbD",
        "outputId": "13e22122-f7e4-467c-9d34-20de8bb1cc12"
      },
      "source": [
        "np.max(b, axis=1)"
      ],
      "execution_count": 29,
      "outputs": [
        {
          "output_type": "execute_result",
          "data": {
            "text/plain": [
              "array([9.9724, 7.8431, 9.6384, 5.743 , 8.231 ])"
            ]
          },
          "metadata": {
            "tags": []
          },
          "execution_count": 29
        }
      ]
    },
    {
      "cell_type": "markdown",
      "metadata": {
        "id": "YwnONRCTiaGz"
      },
      "source": [
        "### 4. 각 열의 평균"
      ]
    },
    {
      "cell_type": "code",
      "metadata": {
        "colab": {
          "base_uri": "https://localhost:8080/"
        },
        "id": "hqmKI9wjibvJ",
        "outputId": "bd197c5e-4d68-4437-b5c4-edc83b8cea40"
      },
      "source": [
        "np.mean(b, axis=0)"
      ],
      "execution_count": 30,
      "outputs": [
        {
          "output_type": "execute_result",
          "data": {
            "text/plain": [
              "array([5.81074, 5.90066, 3.7154 , 5.3664 , 6.02438, 2.82946])"
            ]
          },
          "metadata": {
            "tags": []
          },
          "execution_count": 30
        }
      ]
    },
    {
      "cell_type": "markdown",
      "metadata": {
        "id": "p0B64m65icOp"
      },
      "source": [
        "### 5. 각 열의 최솟값"
      ]
    },
    {
      "cell_type": "code",
      "metadata": {
        "colab": {
          "base_uri": "https://localhost:8080/"
        },
        "id": "M9vKwS2Yie3I",
        "outputId": "08ad0f6b-3b45-4206-e21f-2071780f9fc3"
      },
      "source": [
        "np.min(b, axis=0)"
      ],
      "execution_count": 31,
      "outputs": [
        {
          "output_type": "execute_result",
          "data": {
            "text/plain": [
              "array([1.7899, 3.7116, 0.8663, 2.0185, 0.9689, 0.5857])"
            ]
          },
          "metadata": {
            "tags": []
          },
          "execution_count": 31
        }
      ]
    },
    {
      "cell_type": "markdown",
      "metadata": {
        "id": "tkVFxCtqiseW"
      },
      "source": [
        "# Q6. 다음 배열은 첫번째 행 ( 에 학번 , 두번째 행에 영어 성적 , 세번째 행에 수학 성적을 적은 배열이다 . 영어 성적을 기준으로 각 열 ( 을 재정렬하시오\n",
        "- Sorting"
      ]
    },
    {
      "cell_type": "code",
      "metadata": {
        "colab": {
          "base_uri": "https://localhost:8080/"
        },
        "id": "wygyY9y9iw58",
        "outputId": "3e6077e2-e378-4887-8082-f7a087313bd4"
      },
      "source": [
        "score = np.array([[1,2,3,4],[46,99,100,71],[81,59,90,100]])\n",
        "score"
      ],
      "execution_count": 32,
      "outputs": [
        {
          "output_type": "execute_result",
          "data": {
            "text/plain": [
              "array([[  1,   2,   3,   4],\n",
              "       [ 46,  99, 100,  71],\n",
              "       [ 81,  59,  90, 100]])"
            ]
          },
          "metadata": {
            "tags": []
          },
          "execution_count": 32
        }
      ]
    },
    {
      "cell_type": "code",
      "metadata": {
        "colab": {
          "base_uri": "https://localhost:8080/"
        },
        "id": "PdY-AIwDoZo8",
        "outputId": "9649c0c2-794c-45b2-e5e1-e957c38d7e0f"
      },
      "source": [
        "np.sort(score)"
      ],
      "execution_count": 33,
      "outputs": [
        {
          "output_type": "execute_result",
          "data": {
            "text/plain": [
              "array([[  1,   2,   3,   4],\n",
              "       [ 46,  71,  99, 100],\n",
              "       [ 59,  81,  90, 100]])"
            ]
          },
          "metadata": {
            "tags": []
          },
          "execution_count": 33
        }
      ]
    },
    {
      "cell_type": "code",
      "metadata": {
        "colab": {
          "base_uri": "https://localhost:8080/"
        },
        "id": "bNec1wVvoc8I",
        "outputId": "a7bdfaa8-d396-496c-dd35-4dabdf0fcb6d"
      },
      "source": [
        "s = np.argsort(score[1])\n",
        "s"
      ],
      "execution_count": 34,
      "outputs": [
        {
          "output_type": "execute_result",
          "data": {
            "text/plain": [
              "array([0, 3, 1, 2])"
            ]
          },
          "metadata": {
            "tags": []
          },
          "execution_count": 34
        }
      ]
    },
    {
      "cell_type": "code",
      "metadata": {
        "colab": {
          "base_uri": "https://localhost:8080/"
        },
        "id": "z-A5_gVyoy0p",
        "outputId": "af482383-4616-4e01-ee3b-8c4f33ff4098"
      },
      "source": [
        "# 내림차순\n",
        "s[::-1]"
      ],
      "execution_count": 35,
      "outputs": [
        {
          "output_type": "execute_result",
          "data": {
            "text/plain": [
              "array([2, 1, 3, 0])"
            ]
          },
          "metadata": {
            "tags": []
          },
          "execution_count": 35
        }
      ]
    },
    {
      "cell_type": "code",
      "metadata": {
        "colab": {
          "base_uri": "https://localhost:8080/"
        },
        "id": "xpOyxgx4o3Ej",
        "outputId": "13bf948b-d8c4-41e1-8c75-bebca7ab32d3"
      },
      "source": [
        "score[:, s[::-1]]"
      ],
      "execution_count": 38,
      "outputs": [
        {
          "output_type": "execute_result",
          "data": {
            "text/plain": [
              "array([[  3,   2,   4,   1],\n",
              "       [100,  99,  71,  46],\n",
              "       [ 90,  59, 100,  81]])"
            ]
          },
          "metadata": {
            "tags": []
          },
          "execution_count": 38
        }
      ]
    },
    {
      "cell_type": "code",
      "metadata": {
        "colab": {
          "base_uri": "https://localhost:8080/"
        },
        "id": "fkuaO_DQpF9t",
        "outputId": "e8b84f19-5ab9-4b00-bd82-d2e2b56e3641"
      },
      "source": [
        "# 한 줄로\n",
        "score[:, np.argsort(score[1])[::-1]]"
      ],
      "execution_count": 40,
      "outputs": [
        {
          "output_type": "execute_result",
          "data": {
            "text/plain": [
              "array([[  3,   2,   4,   1],\n",
              "       [100,  99,  71,  46],\n",
              "       [ 90,  59, 100,  81]])"
            ]
          },
          "metadata": {
            "tags": []
          },
          "execution_count": 40
        }
      ]
    },
    {
      "cell_type": "markdown",
      "metadata": {
        "id": "7Zn0OSd7iyZG"
      },
      "source": [
        "# Q7. 주사위를 100 번 던지는 가상 실험을 파이썬으로 작성하고, 던져서 나오는 숫자의 평균을 구하시오"
      ]
    },
    {
      "cell_type": "code",
      "metadata": {
        "colab": {
          "base_uri": "https://localhost:8080/"
        },
        "id": "1pwd8Do8i22A",
        "outputId": "64e6d3fd-515e-4223-ae08-3e2a32cb37f9"
      },
      "source": [
        "np.random.seed(2021)\n",
        "dice = np.random.randint(1,7,100)\n",
        "dice"
      ],
      "execution_count": 41,
      "outputs": [
        {
          "output_type": "execute_result",
          "data": {
            "text/plain": [
              "array([5, 6, 2, 1, 6, 5, 4, 6, 6, 6, 1, 5, 2, 6, 2, 2, 5, 6, 3, 3, 1, 4,\n",
              "       2, 1, 3, 4, 5, 6, 1, 6, 2, 3, 6, 2, 6, 2, 3, 3, 5, 6, 3, 4, 2, 3,\n",
              "       3, 1, 3, 5, 6, 4, 4, 2, 2, 2, 3, 6, 4, 4, 5, 4, 2, 5, 2, 2, 5, 4,\n",
              "       6, 4, 4, 4, 3, 2, 4, 3, 6, 3, 3, 1, 5, 4, 2, 4, 2, 5, 3, 4, 2, 3,\n",
              "       6, 3, 6, 3, 4, 5, 6, 2, 2, 6, 1, 6])"
            ]
          },
          "metadata": {
            "tags": []
          },
          "execution_count": 41
        }
      ]
    },
    {
      "cell_type": "code",
      "metadata": {
        "colab": {
          "base_uri": "https://localhost:8080/"
        },
        "id": "HBEd3gncp1Xo",
        "outputId": "da7fec43-1ea5-44e4-f891-8cd274e96f23"
      },
      "source": [
        "np.mean(dice)"
      ],
      "execution_count": 42,
      "outputs": [
        {
          "output_type": "execute_result",
          "data": {
            "text/plain": [
              "3.7"
            ]
          },
          "metadata": {
            "tags": []
          },
          "execution_count": 42
        }
      ]
    },
    {
      "cell_type": "code",
      "metadata": {
        "colab": {
          "base_uri": "https://localhost:8080/"
        },
        "id": "j61OzhCwp5Bl",
        "outputId": "9d2a4903-7af6-4d8e-f2df-b44fda13c9f9"
      },
      "source": [
        "np.unique(dice)"
      ],
      "execution_count": 43,
      "outputs": [
        {
          "output_type": "execute_result",
          "data": {
            "text/plain": [
              "array([1, 2, 3, 4, 5, 6])"
            ]
          },
          "metadata": {
            "tags": []
          },
          "execution_count": 43
        }
      ]
    },
    {
      "cell_type": "markdown",
      "metadata": {
        "id": "SnJrMRuNi3RK"
      },
      "source": [
        "# Q8. 가격이 10,000 원인 주식이 있다 . 이 주식의 일간 수익률 은 기댓값이 0% 이고 표준편차가 1%인 표준 정규 분포를 따른다고 하자 . 250 일 동안의 주가를 무작위로 생성하시오"
      ]
    },
    {
      "cell_type": "code",
      "metadata": {
        "id": "JOW3Qb81i85S"
      },
      "source": [
        ""
      ],
      "execution_count": null,
      "outputs": []
    }
  ]
}