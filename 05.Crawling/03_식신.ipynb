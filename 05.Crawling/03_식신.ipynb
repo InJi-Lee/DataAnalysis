{
  "nbformat": 4,
  "nbformat_minor": 0,
  "metadata": {
    "colab": {
      "name": "03_식신.ipynb",
      "provenance": [],
      "collapsed_sections": []
    },
    "kernelspec": {
      "name": "python3",
      "display_name": "Python 3"
    },
    "language_info": {
      "name": "python"
    }
  },
  "cells": [
    {
      "cell_type": "markdown",
      "metadata": {
        "id": "faQGs4FwtRxs"
      },
      "source": [
        "# 식신 - 양재역으로 검색\n",
        "- 명칭, 주요메뉴, 평점, 전화번호, 주소"
      ]
    },
    {
      "cell_type": "code",
      "metadata": {
        "id": "7Qec-7GVtNSM"
      },
      "source": [
        "import requests\n",
        "import pandas as pd\n",
        "from urllib.parse import quote"
      ],
      "execution_count": 1,
      "outputs": []
    },
    {
      "cell_type": "markdown",
      "metadata": {
        "id": "qCVvoarGt2w5"
      },
      "source": [
        "- 인터넷 상에서 데이터 가져오기"
      ]
    },
    {
      "cell_type": "code",
      "metadata": {
        "id": "zqlATRW_tqst"
      },
      "source": [
        "base_url = 'https://www.siksinhot.com'\n",
        "url = f'{base_url}/search?keywords={quote(\"양재역\")}'\n",
        "req = requests.get(url)\n",
        "html = req.text\n",
        "#html"
      ],
      "execution_count": 2,
      "outputs": []
    },
    {
      "cell_type": "code",
      "metadata": {
        "id": "vUflNl5yu912"
      },
      "source": [
        "from bs4 import BeautifulSoup\n",
        "\n",
        "soup = BeautifulSoup(html, 'html.parser')"
      ],
      "execution_count": 3,
      "outputs": []
    },
    {
      "cell_type": "markdown",
      "metadata": {
        "id": "ntqhXjMZuq36"
      },
      "source": [
        "- 찾으려고 하는 데이터의 태그 찾기"
      ]
    },
    {
      "cell_type": "code",
      "metadata": {
        "colab": {
          "base_uri": "https://localhost:8080/"
        },
        "id": "mlUZY_IGuRhZ",
        "outputId": "511d9d15-adee-47e9-ada0-4036cdfca14d"
      },
      "source": [
        "lis = soup.select('div.listTy1 > ul > li')\n",
        "len(lis)"
      ],
      "execution_count": 4,
      "outputs": [
        {
          "output_type": "execute_result",
          "data": {
            "text/plain": [
              "12"
            ]
          },
          "metadata": {
            "tags": []
          },
          "execution_count": 4
        }
      ]
    },
    {
      "cell_type": "markdown",
      "metadata": {
        "id": "p4BnGO2Owpks"
      },
      "source": [
        "- 여러개의 데이터중 하나를 선택해서 원하는 정보 추출"
      ]
    },
    {
      "cell_type": "code",
      "metadata": {
        "colab": {
          "base_uri": "https://localhost:8080/",
          "height": 35
        },
        "id": "87Ab1Kj_vNu5",
        "outputId": "48942af5-5b4a-421c-85d4-4b4fcc21825c"
      },
      "source": [
        "li = lis[0]\n",
        "href = li.select_one('a')['href']\n",
        "href"
      ],
      "execution_count": 5,
      "outputs": [
        {
          "output_type": "execute_result",
          "data": {
            "application/vnd.google.colaboratory.intrinsic+json": {
              "type": "string"
            },
            "text/plain": [
              "'/P/358859'"
            ]
          },
          "metadata": {
            "tags": []
          },
          "execution_count": 5
        }
      ]
    },
    {
      "cell_type": "code",
      "metadata": {
        "id": "7j8tCt9CxP2I"
      },
      "source": [
        "url = base_url + href\n",
        "req = requests.get(url)\n",
        "sub_soup = BeautifulSoup(req.text, 'html.parser')"
      ],
      "execution_count": 6,
      "outputs": []
    },
    {
      "cell_type": "code",
      "metadata": {
        "colab": {
          "base_uri": "https://localhost:8080/",
          "height": 35
        },
        "id": "H7QowH-kyzka",
        "outputId": "393a7561-667f-444f-bf1a-e2794f3fe98d"
      },
      "source": [
        "store = sub_soup.select_one('.title')\n",
        "info = store.find('h3').get_text()\n",
        "info"
      ],
      "execution_count": 7,
      "outputs": [
        {
          "output_type": "execute_result",
          "data": {
            "application/vnd.google.colaboratory.intrinsic+json": {
              "type": "string"
            },
            "text/plain": [
              "'그릭슈바인 양재역점3.6HOT'"
            ]
          },
          "metadata": {
            "tags": []
          },
          "execution_count": 7
        }
      ]
    },
    {
      "cell_type": "code",
      "metadata": {
        "colab": {
          "base_uri": "https://localhost:8080/",
          "height": 35
        },
        "id": "1sMNIQ-zzJ5m",
        "outputId": "394697c6-392c-493a-f18c-a68328950de5"
      },
      "source": [
        "score = store.select_one('h3 > strong').string\n",
        "score"
      ],
      "execution_count": 8,
      "outputs": [
        {
          "output_type": "execute_result",
          "data": {
            "application/vnd.google.colaboratory.intrinsic+json": {
              "type": "string"
            },
            "text/plain": [
              "'3.6'"
            ]
          },
          "metadata": {
            "tags": []
          },
          "execution_count": 8
        }
      ]
    },
    {
      "cell_type": "code",
      "metadata": {
        "colab": {
          "base_uri": "https://localhost:8080/"
        },
        "id": "5j-9PsdwznLh",
        "outputId": "f5b098f7-8a23-41da-da2e-06a0cf2d4a94"
      },
      "source": [
        "info.find(score)         # info 문자열에서 score 위치(인덱스)를 알아내는 매서드"
      ],
      "execution_count": 10,
      "outputs": [
        {
          "output_type": "execute_result",
          "data": {
            "text/plain": [
              "10"
            ]
          },
          "metadata": {
            "tags": []
          },
          "execution_count": 10
        }
      ]
    },
    {
      "cell_type": "code",
      "metadata": {
        "colab": {
          "base_uri": "https://localhost:8080/",
          "height": 35
        },
        "id": "01aFWpP0zyD1",
        "outputId": "cb17648f-8f02-46a6-f7f1-4f068ed1b93e"
      },
      "source": [
        "name = info[:info.find(score)]\n",
        "name"
      ],
      "execution_count": 9,
      "outputs": [
        {
          "output_type": "execute_result",
          "data": {
            "application/vnd.google.colaboratory.intrinsic+json": {
              "type": "string"
            },
            "text/plain": [
              "'그릭슈바인 양재역점'"
            ]
          },
          "metadata": {
            "tags": []
          },
          "execution_count": 9
        }
      ]
    },
    {
      "cell_type": "code",
      "metadata": {
        "colab": {
          "base_uri": "https://localhost:8080/",
          "height": 35
        },
        "id": "2Pn_38GB0E4N",
        "outputId": "2dfda369-f93e-4e2f-dad8-8476e6e4ca4f"
      },
      "source": [
        "menu = sub_soup.select('.store_info p')[1].get_text()\n",
        "menu"
      ],
      "execution_count": 11,
      "outputs": [
        {
          "output_type": "execute_result",
          "data": {
            "application/vnd.google.colaboratory.intrinsic+json": {
              "type": "string"
            },
            "text/plain": [
              "'나이트라이프 > 맥주/호프'"
            ]
          },
          "metadata": {
            "tags": []
          },
          "execution_count": 11
        }
      ]
    },
    {
      "cell_type": "code",
      "metadata": {
        "colab": {
          "base_uri": "https://localhost:8080/",
          "height": 35
        },
        "id": "xDCkDPhH0v02",
        "outputId": "e63417f6-b47e-44c2-e6ad-056e16a89ad6"
      },
      "source": [
        "tel = sub_soup.select_one('.p_tel p').get_text()\n",
        "tel"
      ],
      "execution_count": 12,
      "outputs": [
        {
          "output_type": "execute_result",
          "data": {
            "application/vnd.google.colaboratory.intrinsic+json": {
              "type": "string"
            },
            "text/plain": [
              "'02-572-6100'"
            ]
          },
          "metadata": {
            "tags": []
          },
          "execution_count": 12
        }
      ]
    },
    {
      "cell_type": "code",
      "metadata": {
        "colab": {
          "base_uri": "https://localhost:8080/",
          "height": 35
        },
        "id": "SmWLqlxJ1tut",
        "outputId": "81fe11db-d929-4741-ac71-d43d81517411"
      },
      "source": [
        "addr = sub_soup.select_one('.txt_adr').string\n",
        "addr"
      ],
      "execution_count": 13,
      "outputs": [
        {
          "output_type": "execute_result",
          "data": {
            "application/vnd.google.colaboratory.intrinsic+json": {
              "type": "string"
            },
            "text/plain": [
              "'서울특별시 서초구 강남대로 224'"
            ]
          },
          "metadata": {
            "tags": []
          },
          "execution_count": 13
        }
      ]
    },
    {
      "cell_type": "markdown",
      "metadata": {
        "id": "xjoj8wsY2Ngs"
      },
      "source": [
        "- 한 페이지에 있는 모든 데이터를 반복문으로 가져오기"
      ]
    },
    {
      "cell_type": "code",
      "metadata": {
        "colab": {
          "base_uri": "https://localhost:8080/"
        },
        "id": "mXKI7DhP2AuX",
        "outputId": "a8465334-f0f0-4b8e-ee1f-abaed9153fbc"
      },
      "source": [
        "name_list, score_list, menu_list, tel_list, addr_list = [],[],[],[],[]\n",
        "for i, li in enumerate(lis):\n",
        "    href = li.select_one('a')['href']\n",
        "    url = base_url + href\n",
        "    req = requests.get(url)\n",
        "    sub_soup = BeautifulSoup(req.text, 'html.parser')\n",
        "\n",
        "    try:\n",
        "        store = sub_soup.select_one('.title')\n",
        "        info = store.find('h3').get_text()\n",
        "        score = store.select_one('h3 > strong').string\n",
        "        name = info[:info.find(score)]\n",
        "        menu = sub_soup.select('.store_info p')[1].get_text()\n",
        "        tel = sub_soup.select_one('.p_tel p').get_text()\n",
        "        addr = sub_soup.select_one('.txt_adr').string\n",
        "\n",
        "        name_list.append(name)\n",
        "        score_list.append(float(score))\n",
        "        menu_list.append(menu)\n",
        "        tel_list.append(tel)\n",
        "        addr_list.append(addr)\n",
        "    except:\n",
        "        print(i)"
      ],
      "execution_count": 21,
      "outputs": [
        {
          "output_type": "stream",
          "text": [
            "3\n",
            "4\n"
          ],
          "name": "stdout"
        }
      ]
    },
    {
      "cell_type": "code",
      "metadata": {
        "id": "Le9T3-vm3gwx",
        "colab": {
          "base_uri": "https://localhost:8080/",
          "height": 546
        },
        "outputId": "bc7b06e4-09e8-43c9-8883-ba9178dcf018"
      },
      "source": [
        "df = pd.DataFrame({\n",
        "    '식당명':name_list, '평점':score_list, '메뉴':menu_list, \n",
        "    '전화번호':tel_list, '주소':addr_list\n",
        "})\n",
        "df"
      ],
      "execution_count": 20,
      "outputs": [
        {
          "output_type": "execute_result",
          "data": {
            "text/html": [
              "<div>\n",
              "<style scoped>\n",
              "    .dataframe tbody tr th:only-of-type {\n",
              "        vertical-align: middle;\n",
              "    }\n",
              "\n",
              "    .dataframe tbody tr th {\n",
              "        vertical-align: top;\n",
              "    }\n",
              "\n",
              "    .dataframe thead th {\n",
              "        text-align: right;\n",
              "    }\n",
              "</style>\n",
              "<table border=\"1\" class=\"dataframe\">\n",
              "  <thead>\n",
              "    <tr style=\"text-align: right;\">\n",
              "      <th></th>\n",
              "      <th>식당명</th>\n",
              "      <th>평점</th>\n",
              "      <th>메뉴</th>\n",
              "      <th>전화번호</th>\n",
              "      <th>주소</th>\n",
              "    </tr>\n",
              "  </thead>\n",
              "  <tbody>\n",
              "    <tr>\n",
              "      <th>0</th>\n",
              "      <td>그릭슈바인 양재역점</td>\n",
              "      <td>3.6</td>\n",
              "      <td>나이트라이프 &gt; 맥주/호프</td>\n",
              "      <td>02-572-6100</td>\n",
              "      <td>서울특별시 서초구 강남대로 224</td>\n",
              "    </tr>\n",
              "    <tr>\n",
              "      <th>1</th>\n",
              "      <td>미스터브리즈 양재역점</td>\n",
              "      <td>3.4</td>\n",
              "      <td>세계음식 &gt; 카페/커피숍</td>\n",
              "      <td>02-576-4333</td>\n",
              "      <td>서울 서초구 강남대로34길 6</td>\n",
              "    </tr>\n",
              "    <tr>\n",
              "      <th>2</th>\n",
              "      <td>동신참치 양재역점</td>\n",
              "      <td>3.0</td>\n",
              "      <td>한국음식 &gt; 회</td>\n",
              "      <td>02-529-7130</td>\n",
              "      <td>서울 서초구 강남대로 213</td>\n",
              "    </tr>\n",
              "    <tr>\n",
              "      <th>3</th>\n",
              "      <td>영동족발 3호점</td>\n",
              "      <td>4.1</td>\n",
              "      <td>한국음식 &gt; 족발/보쌈</td>\n",
              "      <td>02-575-0250</td>\n",
              "      <td>서울특별시 서초구 남부순환로 2628-18</td>\n",
              "    </tr>\n",
              "    <tr>\n",
              "      <th>4</th>\n",
              "      <td>황재벌</td>\n",
              "      <td>3.9</td>\n",
              "      <td>한국음식 &gt; 장어구이/꼼장어</td>\n",
              "      <td>02-3471-5454</td>\n",
              "      <td>서울특별시 서초구 남부순환로347길 42-4 신화빌딩</td>\n",
              "    </tr>\n",
              "    <tr>\n",
              "      <th>5</th>\n",
              "      <td>김영모과자점 도곡타워점</td>\n",
              "      <td>4.1</td>\n",
              "      <td>세계음식 &gt; 베이커리/제과점</td>\n",
              "      <td>02-3460-2005</td>\n",
              "      <td>서울특별시 강남구 언주로30길 10 현대비젼21</td>\n",
              "    </tr>\n",
              "    <tr>\n",
              "      <th>6</th>\n",
              "      <td>소호정 본점</td>\n",
              "      <td>4.0</td>\n",
              "      <td>한국음식 &gt; 라면/칼국수/국수/수제비</td>\n",
              "      <td>02-579-7282</td>\n",
              "      <td>서울특별시 서초구 논현로 27</td>\n",
              "    </tr>\n",
              "    <tr>\n",
              "      <th>7</th>\n",
              "      <td>산동칼국수</td>\n",
              "      <td>3.9</td>\n",
              "      <td>한국음식 &gt; 라면/칼국수/국수/수제비</td>\n",
              "      <td>02-3473-7972</td>\n",
              "      <td>서울특별시 서초구 강남대로37길 63</td>\n",
              "    </tr>\n",
              "    <tr>\n",
              "      <th>8</th>\n",
              "      <td>양재정육식당</td>\n",
              "      <td>4.1</td>\n",
              "      <td>한국음식 &gt; 꽃등심/등심/육회</td>\n",
              "      <td>02-577-5804</td>\n",
              "      <td>서울 서초구 바우뫼로35길 3</td>\n",
              "    </tr>\n",
              "    <tr>\n",
              "      <th>9</th>\n",
              "      <td>스타쉐프</td>\n",
              "      <td>3.9</td>\n",
              "      <td>세계음식 &gt; 퓨전레스토랑</td>\n",
              "      <td>02-529-8248</td>\n",
              "      <td>서울특별시 강남구 논현로38길 38-6</td>\n",
              "    </tr>\n",
              "  </tbody>\n",
              "</table>\n",
              "</div>"
            ],
            "text/plain": [
              "            식당명   평점  ...          전화번호                             주소\n",
              "0    그릭슈바인 양재역점  3.6  ...   02-572-6100             서울특별시 서초구 강남대로 224\n",
              "1   미스터브리즈 양재역점  3.4  ...   02-576-4333               서울 서초구 강남대로34길 6\n",
              "2     동신참치 양재역점  3.0  ...   02-529-7130                서울 서초구 강남대로 213\n",
              "3      영동족발 3호점  4.1  ...   02-575-0250        서울특별시 서초구 남부순환로 2628-18\n",
              "4           황재벌  3.9  ...  02-3471-5454  서울특별시 서초구 남부순환로347길 42-4 신화빌딩\n",
              "5  김영모과자점 도곡타워점  4.1  ...  02-3460-2005     서울특별시 강남구 언주로30길 10 현대비젼21\n",
              "6        소호정 본점  4.0  ...   02-579-7282               서울특별시 서초구 논현로 27\n",
              "7         산동칼국수  3.9  ...  02-3473-7972           서울특별시 서초구 강남대로37길 63\n",
              "8        양재정육식당  4.1  ...   02-577-5804               서울 서초구 바우뫼로35길 3\n",
              "9          스타쉐프  3.9  ...   02-529-8248          서울특별시 강남구 논현로38길 38-6\n",
              "\n",
              "[10 rows x 5 columns]"
            ]
          },
          "metadata": {
            "tags": []
          },
          "execution_count": 20
        }
      ]
    },
    {
      "cell_type": "markdown",
      "metadata": {
        "id": "m1a2ePrcv1U3"
      },
      "source": [
        "- 오류 발생한 곳 찾기"
      ]
    },
    {
      "cell_type": "code",
      "metadata": {
        "colab": {
          "base_uri": "https://localhost:8080/",
          "height": 35
        },
        "id": "s3n2WkSTtcgy",
        "outputId": "0c7a7979-49c7-448d-9fcb-1c965a01a052"
      },
      "source": [
        "li = lis[1]\n",
        "li.select_one('.store').string"
      ],
      "execution_count": 22,
      "outputs": [
        {
          "output_type": "execute_result",
          "data": {
            "application/vnd.google.colaboratory.intrinsic+json": {
              "type": "string"
            },
            "text/plain": [
              "'미스터브리즈 양재역점'"
            ]
          },
          "metadata": {
            "tags": []
          },
          "execution_count": 22
        }
      ]
    },
    {
      "cell_type": "code",
      "metadata": {
        "colab": {
          "base_uri": "https://localhost:8080/",
          "height": 35
        },
        "id": "z4rMhA52vA3C",
        "outputId": "f046f229-78c4-4f65-f8e4-d1d89a8036d6"
      },
      "source": [
        "li.select_one('.score').string"
      ],
      "execution_count": 23,
      "outputs": [
        {
          "output_type": "execute_result",
          "data": {
            "application/vnd.google.colaboratory.intrinsic+json": {
              "type": "string"
            },
            "text/plain": [
              "'3.4'"
            ]
          },
          "metadata": {
            "tags": []
          },
          "execution_count": 23
        }
      ]
    },
    {
      "cell_type": "code",
      "metadata": {
        "colab": {
          "base_uri": "https://localhost:8080/",
          "height": 35
        },
        "id": "__eei4oVvRuD",
        "outputId": "1dad0b93-847e-43df-c5c8-3c6cd49a5e1b"
      },
      "source": [
        "li.select_one('.cnt p').get_text()"
      ],
      "execution_count": 24,
      "outputs": [
        {
          "output_type": "execute_result",
          "data": {
            "application/vnd.google.colaboratory.intrinsic+json": {
              "type": "string"
            },
            "text/plain": [
              "'아메리카노, 허니버터브레드, 와플'"
            ]
          },
          "metadata": {
            "tags": []
          },
          "execution_count": 24
        }
      ]
    },
    {
      "cell_type": "code",
      "metadata": {
        "colab": {
          "base_uri": "https://localhost:8080/",
          "height": 35
        },
        "id": "ne_e13wivz5O",
        "outputId": "7a4c5625-e8a5-478a-e861-7b11fd75f204"
      },
      "source": [
        "li = lis[3]\n",
        "li.select_one('em').string"
      ],
      "execution_count": 25,
      "outputs": [
        {
          "output_type": "execute_result",
          "data": {
            "application/vnd.google.colaboratory.intrinsic+json": {
              "type": "string"
            },
            "text/plain": [
              "'평가중'"
            ]
          },
          "metadata": {
            "tags": []
          },
          "execution_count": 25
        }
      ]
    },
    {
      "cell_type": "code",
      "metadata": {
        "colab": {
          "base_uri": "https://localhost:8080/",
          "height": 35
        },
        "id": "S43LKvKsyvj_",
        "outputId": "439446d3-4060-4388-b28d-a8897ea4ffcc"
      },
      "source": [
        "lis[1].select_one('em').string"
      ],
      "execution_count": 26,
      "outputs": [
        {
          "output_type": "execute_result",
          "data": {
            "application/vnd.google.colaboratory.intrinsic+json": {
              "type": "string"
            },
            "text/plain": [
              "'3.4'"
            ]
          },
          "metadata": {
            "tags": []
          },
          "execution_count": 26
        }
      ]
    },
    {
      "cell_type": "markdown",
      "metadata": {
        "id": "fY_9_WTYzTza"
      },
      "source": [
        "- 변경된 방법으로 재시도"
      ]
    },
    {
      "cell_type": "code",
      "metadata": {
        "id": "xaG68StozIrI"
      },
      "source": [
        "name_list, score_list, menu_list, tel_list, addr_list = [],[],[],[],[]\n",
        "for i, li in enumerate(lis):\n",
        "    href = li.select_one('a')['href']\n",
        "    name = li.select_one('.store').string\n",
        "    score = li.select_one('em').string\n",
        "    if score == '평가중':\n",
        "        score = '0'\n",
        "    menu = li.select_one('.cnt p').get_text()\n",
        "\n",
        "    url = base_url + href\n",
        "    req = requests.get(url)\n",
        "    sub_soup = BeautifulSoup(req.text, 'html.parser')\n",
        "\n",
        "    try:\n",
        "        tel = sub_soup.select_one('.p_tel p').get_text()\n",
        "        addr = sub_soup.select_one('.txt_adr').string\n",
        "\n",
        "        name_list.append(name)\n",
        "        score_list.append(float(score))\n",
        "        menu_list.append(menu)\n",
        "        tel_list.append(tel)\n",
        "        addr_list.append(addr)\n",
        "    except:\n",
        "        print(i)"
      ],
      "execution_count": 32,
      "outputs": []
    },
    {
      "cell_type": "code",
      "metadata": {
        "colab": {
          "base_uri": "https://localhost:8080/",
          "height": 642
        },
        "id": "O_5NMPa60DgJ",
        "outputId": "d88aca27-26f8-45c8-861d-db839db4cb6d"
      },
      "source": [
        "df = pd.DataFrame({\n",
        "    '식당명':name_list, '평점':score_list, '메뉴':menu_list, \n",
        "    '전화번호':tel_list, '주소':addr_list\n",
        "})\n",
        "df"
      ],
      "execution_count": 33,
      "outputs": [
        {
          "output_type": "execute_result",
          "data": {
            "text/html": [
              "<div>\n",
              "<style scoped>\n",
              "    .dataframe tbody tr th:only-of-type {\n",
              "        vertical-align: middle;\n",
              "    }\n",
              "\n",
              "    .dataframe tbody tr th {\n",
              "        vertical-align: top;\n",
              "    }\n",
              "\n",
              "    .dataframe thead th {\n",
              "        text-align: right;\n",
              "    }\n",
              "</style>\n",
              "<table border=\"1\" class=\"dataframe\">\n",
              "  <thead>\n",
              "    <tr style=\"text-align: right;\">\n",
              "      <th></th>\n",
              "      <th>식당명</th>\n",
              "      <th>평점</th>\n",
              "      <th>메뉴</th>\n",
              "      <th>전화번호</th>\n",
              "      <th>주소</th>\n",
              "    </tr>\n",
              "  </thead>\n",
              "  <tbody>\n",
              "    <tr>\n",
              "      <th>0</th>\n",
              "      <td>그릭슈바인 양재역점</td>\n",
              "      <td>3.6</td>\n",
              "      <td>그릭슈바인bbq, 슈바이네 학센, 모듬 소세지 bbq, 콥 샐러드</td>\n",
              "      <td>02-572-6100</td>\n",
              "      <td>서울특별시 서초구 강남대로 224</td>\n",
              "    </tr>\n",
              "    <tr>\n",
              "      <th>1</th>\n",
              "      <td>미스터브리즈 양재역점</td>\n",
              "      <td>3.4</td>\n",
              "      <td>아메리카노, 허니버터브레드, 와플</td>\n",
              "      <td>02-576-4333</td>\n",
              "      <td>서울 서초구 강남대로34길 6</td>\n",
              "    </tr>\n",
              "    <tr>\n",
              "      <th>2</th>\n",
              "      <td>동신참치 양재역점</td>\n",
              "      <td>3.0</td>\n",
              "      <td>참치회, 참치정식</td>\n",
              "      <td>02-529-7130</td>\n",
              "      <td>서울 서초구 강남대로 213</td>\n",
              "    </tr>\n",
              "    <tr>\n",
              "      <th>3</th>\n",
              "      <td>새우닭 양재역점</td>\n",
              "      <td>0.0</td>\n",
              "      <td>딱새우회, 닭도리탕, 딱새우튀김, 술국닭계장, 마라해물새우</td>\n",
              "      <td>02-575-6088</td>\n",
              "      <td>서울특별시 서초구 남부순환로356길 52  1층</td>\n",
              "    </tr>\n",
              "    <tr>\n",
              "      <th>4</th>\n",
              "      <td>양재역 옛날짜장</td>\n",
              "      <td>0.0</td>\n",
              "      <td>짜장면, 짬뽕, 볶음밥, 고추잡채, 쟁반짜장, 탕수육</td>\n",
              "      <td>031-503-2550</td>\n",
              "      <td>경기도 시흥시 공단1대로 13</td>\n",
              "    </tr>\n",
              "    <tr>\n",
              "      <th>5</th>\n",
              "      <td>영동족발 3호점</td>\n",
              "      <td>4.1</td>\n",
              "      <td>족발大, 쟁반막국수大, 순두부찌개, 족발 중, 해물파전</td>\n",
              "      <td>02-575-0250</td>\n",
              "      <td>서울특별시 서초구 남부순환로 2628-18</td>\n",
              "    </tr>\n",
              "    <tr>\n",
              "      <th>6</th>\n",
              "      <td>황재벌</td>\n",
              "      <td>3.9</td>\n",
              "      <td>꼼장어, 쭈꾸미, 왕 꼼장어, 닭발, 계란찜, 알 주먹밥</td>\n",
              "      <td>02-3471-5454</td>\n",
              "      <td>서울특별시 서초구 남부순환로347길 42-4 신화빌딩</td>\n",
              "    </tr>\n",
              "    <tr>\n",
              "      <th>7</th>\n",
              "      <td>김영모과자점 도곡타워점</td>\n",
              "      <td>4.1</td>\n",
              "      <td>몽블랑, 바게트샌드위치, 레즌 천연발효빵, 생크림앙팡, 마늘바게트</td>\n",
              "      <td>02-3460-2005</td>\n",
              "      <td>서울특별시 강남구 언주로30길 10 현대비젼21</td>\n",
              "    </tr>\n",
              "    <tr>\n",
              "      <th>8</th>\n",
              "      <td>소호정 본점</td>\n",
              "      <td>4.0</td>\n",
              "      <td>안동국시, 국밥, 수육(대), 전(대), 묵(대)</td>\n",
              "      <td>02-579-7282</td>\n",
              "      <td>서울특별시 서초구 논현로 27</td>\n",
              "    </tr>\n",
              "    <tr>\n",
              "      <th>9</th>\n",
              "      <td>산동칼국수</td>\n",
              "      <td>3.9</td>\n",
              "      <td>손칼국수, 만두국, 왕만두</td>\n",
              "      <td>02-3473-7972</td>\n",
              "      <td>서울특별시 서초구 강남대로37길 63</td>\n",
              "    </tr>\n",
              "    <tr>\n",
              "      <th>10</th>\n",
              "      <td>양재정육식당</td>\n",
              "      <td>4.1</td>\n",
              "      <td>한우모듬, 업진 치마살, 한우등심</td>\n",
              "      <td>02-577-5804</td>\n",
              "      <td>서울 서초구 바우뫼로35길 3</td>\n",
              "    </tr>\n",
              "    <tr>\n",
              "      <th>11</th>\n",
              "      <td>스타쉐프</td>\n",
              "      <td>3.9</td>\n",
              "      <td>지중해식문어요리, 놀라운농어요리, 버섯크림요리와 빵, 키조개관자샐러드</td>\n",
              "      <td>02-529-8248</td>\n",
              "      <td>서울특별시 강남구 논현로38길 38-6</td>\n",
              "    </tr>\n",
              "  </tbody>\n",
              "</table>\n",
              "</div>"
            ],
            "text/plain": [
              "             식당명   평점  ...          전화번호                             주소\n",
              "0     그릭슈바인 양재역점  3.6  ...   02-572-6100             서울특별시 서초구 강남대로 224\n",
              "1    미스터브리즈 양재역점  3.4  ...   02-576-4333               서울 서초구 강남대로34길 6\n",
              "2      동신참치 양재역점  3.0  ...   02-529-7130                서울 서초구 강남대로 213\n",
              "3       새우닭 양재역점  0.0  ...   02-575-6088     서울특별시 서초구 남부순환로356길 52  1층\n",
              "4       양재역 옛날짜장  0.0  ...  031-503-2550              경기도 시흥시 공단1대로 13 \n",
              "5       영동족발 3호점  4.1  ...   02-575-0250        서울특별시 서초구 남부순환로 2628-18\n",
              "6            황재벌  3.9  ...  02-3471-5454  서울특별시 서초구 남부순환로347길 42-4 신화빌딩\n",
              "7   김영모과자점 도곡타워점  4.1  ...  02-3460-2005     서울특별시 강남구 언주로30길 10 현대비젼21\n",
              "8         소호정 본점  4.0  ...   02-579-7282               서울특별시 서초구 논현로 27\n",
              "9          산동칼국수  3.9  ...  02-3473-7972           서울특별시 서초구 강남대로37길 63\n",
              "10        양재정육식당  4.1  ...   02-577-5804               서울 서초구 바우뫼로35길 3\n",
              "11          스타쉐프  3.9  ...   02-529-8248          서울특별시 강남구 논현로38길 38-6\n",
              "\n",
              "[12 rows x 5 columns]"
            ]
          },
          "metadata": {
            "tags": []
          },
          "execution_count": 33
        }
      ]
    }
  ]
}