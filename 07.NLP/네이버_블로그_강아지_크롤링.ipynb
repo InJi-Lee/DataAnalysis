{
 "cells": [
  {
   "cell_type": "code",
   "execution_count": 1,
   "source": [
    "from selenium import webdriver\r\n",
    "from bs4 import BeautifulSoup\r\n",
    "import time\r\n",
    "import pandas as pd\r\n",
    "from urllib.parse import quote"
   ],
   "outputs": [],
   "metadata": {}
  },
  {
   "cell_type": "code",
   "execution_count": 2,
   "source": [
    "chromedriver = '/Users/hhlee/Desktop/chromedriver.exe'\r\n",
    "driver = webdriver.Chrome(chromedriver)"
   ],
   "outputs": [],
   "metadata": {}
  },
  {
   "cell_type": "code",
   "execution_count": 3,
   "source": [
    "base_url = 'https://search.naver.com/search.naver?where=view&sm=tab_jum&query='\r\n",
    "url = base_url + quote('강아지')"
   ],
   "outputs": [],
   "metadata": {}
  },
  {
   "cell_type": "code",
   "execution_count": 4,
   "source": [
    "driver.get(url)"
   ],
   "outputs": [],
   "metadata": {}
  },
  {
   "cell_type": "code",
   "execution_count": 5,
   "source": [
    "# blog 페이지를 아래로 내려서 많은 데이터 확보\r\n",
    "from selenium.webdriver.common.keys import Keys\r\n",
    "\r\n",
    "body = driver.find_element_by_tag_name('body')\r\n",
    "for i in range(30):\r\n",
    "     body.send_keys(Keys.PAGE_DOWN)\r\n",
    "     time.sleep(2)\r\n"
   ],
   "outputs": [],
   "metadata": {}
  },
  {
   "cell_type": "code",
   "execution_count": 6,
   "source": [
    "html = driver.page_source\r\n",
    "soup = BeautifulSoup(html, 'html.parser')"
   ],
   "outputs": [],
   "metadata": {}
  },
  {
   "cell_type": "code",
   "execution_count": 7,
   "source": [
    "lis = soup.select('li.bx._svp_item')\r\n",
    "len(lis)"
   ],
   "outputs": [
    {
     "output_type": "execute_result",
     "data": {
      "text/plain": [
       "61"
      ]
     },
     "metadata": {},
     "execution_count": 7
    }
   ],
   "metadata": {}
  },
  {
   "cell_type": "code",
   "execution_count": 8,
   "source": [
    "li = lis[0]\r\n",
    "title = li.select_one('a.api_txt_lines.total_tit._cross_trigger').get_text()\r\n",
    "content = li.select_one('div.api_txt_lines.dsc_txt').get_text()\r\n",
    "date = li.select_one('.sub_time.sub_txt').get_text()\r\n",
    "title, date, content"
   ],
   "outputs": [
    {
     "output_type": "execute_result",
     "data": {
      "text/plain": [
       "('강아지가 너무 저만 좋아해서 난감해요..',\n",
       " '5일 전',\n",
       " '저는 재택근무라 24시간 집에 있고 신랑은 저녁에 퇴근하고 강아지랑 놀아줘요. 일단 주보호자는 저예요.... 무슨 왕따시키는것도 아니고 말이에요..ㅠㅠ 강아지가 이럴때마다 신랑이 너무 서운해해서 괜히 눈치보게 돼요.....')"
      ]
     },
     "metadata": {},
     "execution_count": 8
    }
   ],
   "metadata": {}
  },
  {
   "cell_type": "code",
   "execution_count": 9,
   "source": [
    "title_list, content_list, date_list = [],[],[]\r\n",
    "for i, li in enumerate(lis):\r\n",
    "    try:\r\n",
    "         adv = li.select_one('a.link_ad').get_text()\r\n",
    "         if adv.strip() == '광고':\r\n",
    "                continue\r\n",
    "    except:\r\n",
    "\r\n",
    "\r\n",
    "         title = li.select_one('a.api_txt_lines.total_tit').get_text()\r\n",
    "         content = li.select_one('div.api_txt_lines.dsc_txt').get_text()\r\n",
    "         date = li.select_one('.sub_time.sub_txt').get_text()\r\n",
    "\r\n",
    "         title_list.append(title)\r\n",
    "         content_list.append(content)\r\n",
    "         date_list.append(date)\r\n",
    "\r\n",
    "         #print(i)"
   ],
   "outputs": [],
   "metadata": {}
  },
  {
   "cell_type": "code",
   "execution_count": 10,
   "source": [
    "df = pd.DataFrame({\r\n",
    "        'title': title_list, 'date': date_list, 'content': content_list\r\n",
    "})\r\n",
    "df.head()"
   ],
   "outputs": [
    {
     "output_type": "execute_result",
     "data": {
      "text/plain": [
       "                      title         date  \\\n",
       "0    강아지가 너무 저만 좋아해서 난감해요..         5일 전   \n",
       "1     저는 강아지를 방치하고있는 견주입니다.         4일 전   \n",
       "2  수원동물병원 강아지 유선종양 수술 받았어요~        7시간 전   \n",
       "3       강아지사료 닥터독 시니어 건강하개!  2021.08.23.   \n",
       "4    간종양 때문에 죽다 살아난 10살 강아지  2021.07.29.   \n",
       "\n",
       "                                             content  \n",
       "0  저는 재택근무라 24시간 집에 있고 신랑은 저녁에 퇴근하고 강아지랑 놀아줘요. 일단...  \n",
       "1  생각해서 강아지의 인생은 신경도 안쓰고 강사모에서 둥둥이를 입양하게 되었습니다. 너...  \n",
       "2  증상에 대해 검색해보니 강아지 유선종양과 비슷해서 전문적인 치료를 받을 수 있는 곳...  \n",
       "3  오랜만에 소개할 제품은 닥터독 #강아지사료 시니어입니다. 쿤이도 한때는 이 사료 저...  \n",
       "4  죽어가던 10살 노령견 강아지가 다시 살아날 수 있었던 이유 24시 우리들동물메디컬...  "
      ],
      "text/html": [
       "<div>\n",
       "<style scoped>\n",
       "    .dataframe tbody tr th:only-of-type {\n",
       "        vertical-align: middle;\n",
       "    }\n",
       "\n",
       "    .dataframe tbody tr th {\n",
       "        vertical-align: top;\n",
       "    }\n",
       "\n",
       "    .dataframe thead th {\n",
       "        text-align: right;\n",
       "    }\n",
       "</style>\n",
       "<table border=\"1\" class=\"dataframe\">\n",
       "  <thead>\n",
       "    <tr style=\"text-align: right;\">\n",
       "      <th></th>\n",
       "      <th>title</th>\n",
       "      <th>date</th>\n",
       "      <th>content</th>\n",
       "    </tr>\n",
       "  </thead>\n",
       "  <tbody>\n",
       "    <tr>\n",
       "      <th>0</th>\n",
       "      <td>강아지가 너무 저만 좋아해서 난감해요..</td>\n",
       "      <td>5일 전</td>\n",
       "      <td>저는 재택근무라 24시간 집에 있고 신랑은 저녁에 퇴근하고 강아지랑 놀아줘요. 일단...</td>\n",
       "    </tr>\n",
       "    <tr>\n",
       "      <th>1</th>\n",
       "      <td>저는 강아지를 방치하고있는 견주입니다.</td>\n",
       "      <td>4일 전</td>\n",
       "      <td>생각해서 강아지의 인생은 신경도 안쓰고 강사모에서 둥둥이를 입양하게 되었습니다. 너...</td>\n",
       "    </tr>\n",
       "    <tr>\n",
       "      <th>2</th>\n",
       "      <td>수원동물병원 강아지 유선종양 수술 받았어요~</td>\n",
       "      <td>7시간 전</td>\n",
       "      <td>증상에 대해 검색해보니 강아지 유선종양과 비슷해서 전문적인 치료를 받을 수 있는 곳...</td>\n",
       "    </tr>\n",
       "    <tr>\n",
       "      <th>3</th>\n",
       "      <td>강아지사료 닥터독 시니어 건강하개!</td>\n",
       "      <td>2021.08.23.</td>\n",
       "      <td>오랜만에 소개할 제품은 닥터독 #강아지사료 시니어입니다. 쿤이도 한때는 이 사료 저...</td>\n",
       "    </tr>\n",
       "    <tr>\n",
       "      <th>4</th>\n",
       "      <td>간종양 때문에 죽다 살아난 10살 강아지</td>\n",
       "      <td>2021.07.29.</td>\n",
       "      <td>죽어가던 10살 노령견 강아지가 다시 살아날 수 있었던 이유 24시 우리들동물메디컬...</td>\n",
       "    </tr>\n",
       "  </tbody>\n",
       "</table>\n",
       "</div>"
      ]
     },
     "metadata": {},
     "execution_count": 10
    }
   ],
   "metadata": {}
  },
  {
   "cell_type": "code",
   "execution_count": 11,
   "source": [
    "df.shape"
   ],
   "outputs": [
    {
     "output_type": "execute_result",
     "data": {
      "text/plain": [
       "(61, 3)"
      ]
     },
     "metadata": {},
     "execution_count": 11
    }
   ],
   "metadata": {}
  },
  {
   "cell_type": "code",
   "execution_count": 12,
   "source": [
    "df.to_csv('data/puppy_blog.txt')"
   ],
   "outputs": [],
   "metadata": {}
  },
  {
   "cell_type": "code",
   "execution_count": 13,
   "source": [
    "driver.close()"
   ],
   "outputs": [],
   "metadata": {}
  }
 ],
 "metadata": {
  "orig_nbformat": 4,
  "language_info": {
   "name": "python",
   "version": "3.8.10",
   "mimetype": "text/x-python",
   "codemirror_mode": {
    "name": "ipython",
    "version": 3
   },
   "pygments_lexer": "ipython3",
   "nbconvert_exporter": "python",
   "file_extension": ".py"
  },
  "kernelspec": {
   "name": "python3",
   "display_name": "Python 3.8.10 64-bit ('base': conda)"
  },
  "interpreter": {
   "hash": "a68309b0ef8937e01c5e3cfa649fe739c4ac0bb2d1a8e05b17f9f4df050f8b68"
  }
 },
 "nbformat": 4,
 "nbformat_minor": 2
}