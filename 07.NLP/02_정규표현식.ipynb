{
  "nbformat": 4,
  "nbformat_minor": 0,
  "metadata": {
    "colab": {
      "name": "02_정규표현식.ipynb",
      "provenance": [],
      "collapsed_sections": []
    },
    "kernelspec": {
      "name": "python3",
      "display_name": "Python 3"
    },
    "language_info": {
      "name": "python"
    }
  },
  "cells": [
    {
      "cell_type": "markdown",
      "metadata": {
        "id": "3EylpaYZcTX8"
      },
      "source": [
        "# 정규 표현식(Regular Expression)"
      ]
    },
    {
      "cell_type": "code",
      "metadata": {
        "id": "7xCgkz35Z31Y"
      },
      "source": [
        "import re"
      ],
      "execution_count": 1,
      "outputs": []
    },
    {
      "cell_type": "markdown",
      "metadata": {
        "id": "eNLPNccNeyX5"
      },
      "source": [
        "## 1. 정규표현식 실습"
      ]
    },
    {
      "cell_type": "markdown",
      "metadata": {
        "id": "62dRCh8KfF-V"
      },
      "source": [
        "- . 기호 : 한 개의 임의의 문자"
      ]
    },
    {
      "cell_type": "code",
      "metadata": {
        "id": "j_n0Xi7WexEw"
      },
      "source": [
        "re.search('a.c', 'kkk')"
      ],
      "execution_count": 2,
      "outputs": []
    },
    {
      "cell_type": "code",
      "metadata": {
        "colab": {
          "base_uri": "https://localhost:8080/"
        },
        "id": "E76JI8KBfBSV",
        "outputId": "9ef62b5a-fca4-4ed7-8db3-a1c7a0dafc60"
      },
      "source": [
        "re.search('a.c', 'abc')"
      ],
      "execution_count": 3,
      "outputs": [
        {
          "output_type": "execute_result",
          "data": {
            "text/plain": [
              "<re.Match object; span=(0, 3), match='abc'>"
            ]
          },
          "metadata": {},
          "execution_count": 3
        }
      ]
    },
    {
      "cell_type": "markdown",
      "metadata": {
        "id": "j6xnrO8VfQ3A"
      },
      "source": [
        "- ? 기호 : 문자가 0개 또는 1개"
      ]
    },
    {
      "cell_type": "code",
      "metadata": {
        "id": "clLvirp_fN-u"
      },
      "source": [
        "r = re.compile('ab?c')\n",
        "r.search('abdc')"
      ],
      "execution_count": 4,
      "outputs": []
    },
    {
      "cell_type": "code",
      "metadata": {
        "colab": {
          "base_uri": "https://localhost:8080/"
        },
        "id": "fvf-HqNDfrzP",
        "outputId": "ab670223-2c3d-4d04-ce59-538bb84ec6a2"
      },
      "source": [
        "r.search('abc')"
      ],
      "execution_count": 5,
      "outputs": [
        {
          "output_type": "execute_result",
          "data": {
            "text/plain": [
              "<re.Match object; span=(0, 3), match='abc'>"
            ]
          },
          "metadata": {},
          "execution_count": 5
        }
      ]
    },
    {
      "cell_type": "code",
      "metadata": {
        "colab": {
          "base_uri": "https://localhost:8080/"
        },
        "id": "ghzNc4xYfuKP",
        "outputId": "a86efd7f-562d-463d-fb97-abd3acb944e2"
      },
      "source": [
        "r.search('ac')"
      ],
      "execution_count": 7,
      "outputs": [
        {
          "output_type": "execute_result",
          "data": {
            "text/plain": [
              "<re.Match object; span=(0, 2), match='ac'>"
            ]
          },
          "metadata": {},
          "execution_count": 7
        }
      ]
    },
    {
      "cell_type": "markdown",
      "metadata": {
        "id": "ATZAz5VHxS9H"
      },
      "source": [
        "- \\* 기호 : 바로 앞의 문자가 0개 이상일 경우\n"
      ]
    },
    {
      "cell_type": "code",
      "metadata": {
        "id": "aj8BpVFYfv-J"
      },
      "source": [
        "r=re.compile(\"ab*c\")\n",
        "r.search('a')"
      ],
      "execution_count": 8,
      "outputs": []
    },
    {
      "cell_type": "code",
      "metadata": {
        "colab": {
          "base_uri": "https://localhost:8080/"
        },
        "id": "nJ1rmGHIxj4Z",
        "outputId": "129c294d-d9a5-41f5-bb2b-7b181fde1291"
      },
      "source": [
        "r.search('ac')"
      ],
      "execution_count": 9,
      "outputs": [
        {
          "output_type": "execute_result",
          "data": {
            "text/plain": [
              "<re.Match object; span=(0, 2), match='ac'>"
            ]
          },
          "metadata": {},
          "execution_count": 9
        }
      ]
    },
    {
      "cell_type": "code",
      "metadata": {
        "colab": {
          "base_uri": "https://localhost:8080/"
        },
        "id": "gVzaV2h-xljA",
        "outputId": "adccec48-4b93-4dd9-dfab-bf339b5edc8e"
      },
      "source": [
        "r.search('aaabbbc')"
      ],
      "execution_count": 10,
      "outputs": [
        {
          "output_type": "execute_result",
          "data": {
            "text/plain": [
              "<re.Match object; span=(2, 7), match='abbbc'>"
            ]
          },
          "metadata": {},
          "execution_count": 10
        }
      ]
    },
    {
      "cell_type": "markdown",
      "metadata": {
        "id": "rm4oCIZvxspg"
      },
      "source": [
        "- \\+ 기호 : 앞의 문자가 최소 1개 이상"
      ]
    },
    {
      "cell_type": "code",
      "metadata": {
        "id": "vtTU8zzLxoPt"
      },
      "source": [
        "r = re.compile(\"ab+c\")\n",
        "r.search('ac')"
      ],
      "execution_count": 11,
      "outputs": []
    },
    {
      "cell_type": "code",
      "metadata": {
        "colab": {
          "base_uri": "https://localhost:8080/"
        },
        "id": "FZcxlTLhx9Xp",
        "outputId": "80537f30-650e-4aeb-b4d5-acb49f3659b0"
      },
      "source": [
        "r.search('aaabbbc')"
      ],
      "execution_count": 12,
      "outputs": [
        {
          "output_type": "execute_result",
          "data": {
            "text/plain": [
              "<re.Match object; span=(2, 7), match='abbbc'>"
            ]
          },
          "metadata": {},
          "execution_count": 12
        }
      ]
    },
    {
      "cell_type": "markdown",
      "metadata": {
        "id": "1HB4gqWIyA6F"
      },
      "source": [
        "- ^ 기호 : 시작되는 글자를 지정"
      ]
    },
    {
      "cell_type": "code",
      "metadata": {
        "id": "AGjtMRIwyABT"
      },
      "source": [
        "re.search('^a', 'bbc')"
      ],
      "execution_count": 13,
      "outputs": []
    },
    {
      "cell_type": "code",
      "metadata": {
        "colab": {
          "base_uri": "https://localhost:8080/"
        },
        "id": "ebXKjlr-yMa-",
        "outputId": "7602a74f-4fc5-4bf7-c0e8-5df00399a10d"
      },
      "source": [
        "re.search('^a', 'ab')"
      ],
      "execution_count": 14,
      "outputs": [
        {
          "output_type": "execute_result",
          "data": {
            "text/plain": [
              "<re.Match object; span=(0, 1), match='a'>"
            ]
          },
          "metadata": {},
          "execution_count": 14
        }
      ]
    },
    {
      "cell_type": "markdown",
      "metadata": {
        "id": "ePvhXX-zyXn0"
      },
      "source": [
        "- {숫자} 기호 : 해당 문자를 숫자만큼 반복한 것"
      ]
    },
    {
      "cell_type": "code",
      "metadata": {
        "id": "I9wRhLxiyPfb"
      },
      "source": [
        "r=re.compile(\"ab{2}c\")\n",
        "r.search(\"ac\") # 아무런 결과도 출력되지 않는다.\n",
        "r.search(\"abc\") # 아무런 결과도 출력되지 않는다."
      ],
      "execution_count": 15,
      "outputs": []
    },
    {
      "cell_type": "code",
      "metadata": {
        "colab": {
          "base_uri": "https://localhost:8080/"
        },
        "id": "5oXCXTOryg7G",
        "outputId": "0be65727-7bf4-4e80-cf19-9a0940d3de64"
      },
      "source": [
        "r.search(\"abbc\")"
      ],
      "execution_count": 16,
      "outputs": [
        {
          "output_type": "execute_result",
          "data": {
            "text/plain": [
              "<re.Match object; span=(0, 4), match='abbc'>"
            ]
          },
          "metadata": {},
          "execution_count": 16
        }
      ]
    },
    {
      "cell_type": "markdown",
      "metadata": {
        "id": "a2O0SEMUyv16"
      },
      "source": [
        "- {숫자1, 숫자1} 기호 : 해당 문자를 숫자1 이상 숫자2 이하만큼 반복"
      ]
    },
    {
      "cell_type": "code",
      "metadata": {
        "id": "PXszZpTvyje2"
      },
      "source": [
        "r=re.compile(\"ab{2,8}c\")\n",
        "r.search(\"ac\") # 아무런 결과도 출력되지 않는다.\n",
        "r.search(\"abc\") # 아무런 결과도 출력되지 않는다."
      ],
      "execution_count": 17,
      "outputs": []
    },
    {
      "cell_type": "code",
      "metadata": {
        "colab": {
          "base_uri": "https://localhost:8080/"
        },
        "id": "_27gsYrzy3fN",
        "outputId": "6d0b792e-5e77-4aa9-aad3-c62c6889b57a"
      },
      "source": [
        "r.search(\"abbc\")"
      ],
      "execution_count": 18,
      "outputs": [
        {
          "output_type": "execute_result",
          "data": {
            "text/plain": [
              "<re.Match object; span=(0, 4), match='abbc'>"
            ]
          },
          "metadata": {},
          "execution_count": 18
        }
      ]
    },
    {
      "cell_type": "markdown",
      "metadata": {
        "id": "HcmTaTCYzCcA"
      },
      "source": [
        "- \\[  ] 기호 : 문자들 중 한 개의 문자와 매치라는 의미"
      ]
    },
    {
      "cell_type": "code",
      "metadata": {
        "id": "7A0L39yEy6ux"
      },
      "source": [
        "r=re.compile(\"[abc]\") # [abc]는 [a-c]와 같다.\n",
        "r.search(\"zzz\") # 아무런 결과도 출력되지 않는다."
      ],
      "execution_count": 19,
      "outputs": []
    },
    {
      "cell_type": "code",
      "metadata": {
        "colab": {
          "base_uri": "https://localhost:8080/"
        },
        "id": "iToBUQtZzNBJ",
        "outputId": "3bf4ea4b-d371-4993-a64a-12f26130d4c0"
      },
      "source": [
        "r.search(\"baac\")      "
      ],
      "execution_count": 20,
      "outputs": [
        {
          "output_type": "execute_result",
          "data": {
            "text/plain": [
              "<re.Match object; span=(0, 1), match='b'>"
            ]
          },
          "metadata": {},
          "execution_count": 20
        }
      ]
    },
    {
      "cell_type": "code",
      "metadata": {
        "id": "f2wov7JvzQl_"
      },
      "source": [
        "# 소문자\n",
        "re.search('[a-z]', 'ABC')"
      ],
      "execution_count": 22,
      "outputs": []
    },
    {
      "cell_type": "code",
      "metadata": {
        "colab": {
          "base_uri": "https://localhost:8080/"
        },
        "id": "LZK9y_83zh23",
        "outputId": "4975ea33-ef59-41f6-f454-4374312cc999"
      },
      "source": [
        "re.search('[a-z]', 'AbC')"
      ],
      "execution_count": 23,
      "outputs": [
        {
          "output_type": "execute_result",
          "data": {
            "text/plain": [
              "<re.Match object; span=(1, 2), match='b'>"
            ]
          },
          "metadata": {},
          "execution_count": 23
        }
      ]
    },
    {
      "cell_type": "code",
      "metadata": {
        "id": "Bb5EDX070R5S"
      },
      "source": [
        "# 문자 또는 숫자\n",
        "re.search('[0-9A-Za-z]', '$%^&')\n",
        "re.search('\\w', '$%^&')"
      ],
      "execution_count": 27,
      "outputs": []
    },
    {
      "cell_type": "markdown",
      "metadata": {
        "id": "mNv7uu8lz1AO"
      },
      "source": [
        "- [^문자] 기호 : ^ 기호 뒤에 붙은 문자들을 제외한 모든 문자를 매치"
      ]
    },
    {
      "cell_type": "code",
      "metadata": {
        "id": "MODZKCZ8zzyv"
      },
      "source": [
        "r=re.compile(\"[^abc]\")\n",
        "r.search(\"a\") # 아무런 결과도 출력되지 않는다.\n",
        "r.search(\"ab\") # 아무런 결과도 출력되지 않는다.\n",
        "r.search(\"b\") # 아무런 결과도 출력되지 않는다."
      ],
      "execution_count": 25,
      "outputs": []
    },
    {
      "cell_type": "code",
      "metadata": {
        "colab": {
          "base_uri": "https://localhost:8080/"
        },
        "id": "4DSmyoIz0AN_",
        "outputId": "d46741ea-a9ce-4e6a-fac8-d7ea47baa9db"
      },
      "source": [
        "r.search('d1')"
      ],
      "execution_count": 26,
      "outputs": [
        {
          "output_type": "execute_result",
          "data": {
            "text/plain": [
              "<re.Match object; span=(0, 1), match='d'>"
            ]
          },
          "metadata": {},
          "execution_count": 26
        }
      ]
    },
    {
      "cell_type": "code",
      "metadata": {
        "colab": {
          "base_uri": "https://localhost:8080/",
          "height": 35
        },
        "id": "31UYYg9n0GhD",
        "outputId": "60ee7b8f-ac46-4594-e9ee-9b8bc0b83668"
      },
      "source": [
        "# 한글과 공백을 제외한 모든 문자를 제거\n",
        "re.sub('[^ㄱ-ㅎㅏ-ㅣ가-힣 ]', '', '^ 기호 뒤에 붙은 문자.')"
      ],
      "execution_count": 28,
      "outputs": [
        {
          "output_type": "execute_result",
          "data": {
            "application/vnd.google.colaboratory.intrinsic+json": {
              "type": "string"
            },
            "text/plain": [
              "' 기호 뒤에 붙은 문자'"
            ]
          },
          "metadata": {},
          "execution_count": 28
        }
      ]
    },
    {
      "cell_type": "markdown",
      "metadata": {
        "id": "9cGJGfy81j8U"
      },
      "source": [
        "## 2. re 모듈 함수"
      ]
    },
    {
      "cell_type": "markdown",
      "metadata": {
        "id": "NKMEmYL12Ckk"
      },
      "source": [
        "- re.match() 와 re.search()의 차이"
      ]
    },
    {
      "cell_type": "code",
      "metadata": {
        "id": "Ou2AAHg21cE2"
      },
      "source": [
        "re.match('ab.', 'kkkabc')"
      ],
      "execution_count": 29,
      "outputs": []
    },
    {
      "cell_type": "code",
      "metadata": {
        "colab": {
          "base_uri": "https://localhost:8080/"
        },
        "id": "1PkhEFLI1632",
        "outputId": "3155b383-9182-4a4d-bf53-0dbf97aac2b3"
      },
      "source": [
        "re.search('ab.', 'kkkabc')"
      ],
      "execution_count": 30,
      "outputs": [
        {
          "output_type": "execute_result",
          "data": {
            "text/plain": [
              "<re.Match object; span=(3, 6), match='abc'>"
            ]
          },
          "metadata": {},
          "execution_count": 30
        }
      ]
    },
    {
      "cell_type": "markdown",
      "metadata": {
        "id": "kc4sMcGQ2GK0"
      },
      "source": [
        "- re.split()"
      ]
    },
    {
      "cell_type": "code",
      "metadata": {
        "colab": {
          "base_uri": "https://localhost:8080/"
        },
        "id": "GYDL3RGi1-W8",
        "outputId": "f75d8a9d-4a0d-409e-9d6f-c898b6021489"
      },
      "source": [
        "text=\"사과 딸기 수박 메론 바나나\"\n",
        "re.split(\" \",text)"
      ],
      "execution_count": 31,
      "outputs": [
        {
          "output_type": "execute_result",
          "data": {
            "text/plain": [
              "['사과', '딸기', '수박', '메론', '바나나']"
            ]
          },
          "metadata": {},
          "execution_count": 31
        }
      ]
    },
    {
      "cell_type": "code",
      "metadata": {
        "colab": {
          "base_uri": "https://localhost:8080/"
        },
        "id": "bYDX2NQP2MKt",
        "outputId": "5022fdf0-ba0f-4cc3-899f-15ca807b3a15"
      },
      "source": [
        "text.split()"
      ],
      "execution_count": 32,
      "outputs": [
        {
          "output_type": "execute_result",
          "data": {
            "text/plain": [
              "['사과', '딸기', '수박', '메론', '바나나']"
            ]
          },
          "metadata": {},
          "execution_count": 32
        }
      ]
    },
    {
      "cell_type": "code",
      "metadata": {
        "colab": {
          "base_uri": "https://localhost:8080/"
        },
        "id": "oUtFd0FU2Ozn",
        "outputId": "10f430e0-8b13-49c8-a53f-5e73ed8ef350"
      },
      "source": [
        "text=\"\"\"사과      딸기\n",
        "  수박\n",
        "메론              바나나\"\"\"\n",
        "text.split()              # '\\s+'가 디폴트"
      ],
      "execution_count": 36,
      "outputs": [
        {
          "output_type": "execute_result",
          "data": {
            "text/plain": [
              "['사과', '딸기', '수박', '메론', '바나나']"
            ]
          },
          "metadata": {},
          "execution_count": 36
        }
      ]
    },
    {
      "cell_type": "code",
      "metadata": {
        "colab": {
          "base_uri": "https://localhost:8080/"
        },
        "id": "kxzaX1js2ePe",
        "outputId": "00c6a6d3-dfe7-4274-d2ab-e2e59e1ba791"
      },
      "source": [
        "re.split('\\s+',text)"
      ],
      "execution_count": 35,
      "outputs": [
        {
          "output_type": "execute_result",
          "data": {
            "text/plain": [
              "['사과', '딸기', '수박', '메론', '바나나']"
            ]
          },
          "metadata": {},
          "execution_count": 35
        }
      ]
    },
    {
      "cell_type": "markdown",
      "metadata": {
        "id": "PYXqzt6R2_oq"
      },
      "source": [
        "- re.findall()"
      ]
    },
    {
      "cell_type": "code",
      "metadata": {
        "colab": {
          "base_uri": "https://localhost:8080/"
        },
        "id": "iqObMKzm2pt2",
        "outputId": "f5523d0b-0c4a-4dd6-a6ea-c45c0bc86c65"
      },
      "source": [
        "text=\"\"\"이름 : 김철수\n",
        "전화번호 : 010 - 1234 - 1234\n",
        "나이 : 30\n",
        "성별 : 남\"\"\"  \n",
        "re.findall(\"\\d+\",text)"
      ],
      "execution_count": 37,
      "outputs": [
        {
          "output_type": "execute_result",
          "data": {
            "text/plain": [
              "['010', '1234', '1234', '30']"
            ]
          },
          "metadata": {},
          "execution_count": 37
        }
      ]
    },
    {
      "cell_type": "code",
      "metadata": {
        "colab": {
          "base_uri": "https://localhost:8080/"
        },
        "id": "uPCE_ZBN3Iq3",
        "outputId": "d3d9ecae-fe93-4a98-b004-02c4968ab17d"
      },
      "source": [
        "re.findall(\"\\d+\", '김철수')"
      ],
      "execution_count": 38,
      "outputs": [
        {
          "output_type": "execute_result",
          "data": {
            "text/plain": [
              "[]"
            ]
          },
          "metadata": {},
          "execution_count": 38
        }
      ]
    },
    {
      "cell_type": "markdown",
      "metadata": {
        "id": "igeN8Z4U3ZxS"
      },
      "source": [
        "- re.sub()"
      ]
    },
    {
      "cell_type": "code",
      "metadata": {
        "colab": {
          "base_uri": "https://localhost:8080/",
          "height": 71
        },
        "id": "gC7iYNnd3Yy1",
        "outputId": "26faec06-e668-421e-c05f-3f9e2dc0f744"
      },
      "source": [
        "text=\"\"\"Regular expression : A regular expression, regex or regexp[1] \n",
        "(sometimes called a rational expression)[2][3] \n",
        "is, in theoretical computer science and formal language theory, \n",
        "a sequence of characters that define a search pattern.\"\"\"\n",
        "re.sub('[^a-zA-Z]',' ',text)"
      ],
      "execution_count": 39,
      "outputs": [
        {
          "output_type": "execute_result",
          "data": {
            "application/vnd.google.colaboratory.intrinsic+json": {
              "type": "string"
            },
            "text/plain": [
              "'Regular expression   A regular expression  regex or regexp      sometimes called a rational expression         is  in theoretical computer science and formal language theory   a sequence of characters that define a search pattern '"
            ]
          },
          "metadata": {},
          "execution_count": 39
        }
      ]
    },
    {
      "cell_type": "markdown",
      "metadata": {
        "id": "FKQexTSi3690"
      },
      "source": [
        "## 3. 정규표현식 텍스트 전처리 예제"
      ]
    },
    {
      "cell_type": "code",
      "metadata": {
        "colab": {
          "base_uri": "https://localhost:8080/"
        },
        "id": "t5XN8XW83uhI",
        "outputId": "dbe0f2f3-2ac0-40c4-dd5c-350bdc1caebc"
      },
      "source": [
        "text = \"\"\"100 John    PROF\n",
        "101 James   STUD\n",
        "102 Mac   STUD\"\"\"  \n",
        "\n",
        "re.split('\\s+', text)  "
      ],
      "execution_count": 40,
      "outputs": [
        {
          "output_type": "execute_result",
          "data": {
            "text/plain": [
              "['100', 'John', 'PROF', '101', 'James', 'STUD', '102', 'Mac', 'STUD']"
            ]
          },
          "metadata": {},
          "execution_count": 40
        }
      ]
    },
    {
      "cell_type": "code",
      "metadata": {
        "colab": {
          "base_uri": "https://localhost:8080/"
        },
        "id": "zTIk3QGx4JWL",
        "outputId": "aea81b87-8550-44f9-a55b-b433b754bf67"
      },
      "source": [
        "re.findall('\\d+', text)"
      ],
      "execution_count": 42,
      "outputs": [
        {
          "output_type": "execute_result",
          "data": {
            "text/plain": [
              "['100', '101', '102']"
            ]
          },
          "metadata": {},
          "execution_count": 42
        }
      ]
    },
    {
      "cell_type": "code",
      "metadata": {
        "colab": {
          "base_uri": "https://localhost:8080/"
        },
        "id": "PWJYzViY4RIa",
        "outputId": "9a268428-f0c5-43d1-e0ee-0305418f14f4"
      },
      "source": [
        "re.findall('[A-Z]', text)"
      ],
      "execution_count": 43,
      "outputs": [
        {
          "output_type": "execute_result",
          "data": {
            "text/plain": [
              "['J', 'P', 'R', 'O', 'F', 'J', 'S', 'T', 'U', 'D', 'M', 'S', 'T', 'U', 'D']"
            ]
          },
          "metadata": {},
          "execution_count": 43
        }
      ]
    },
    {
      "cell_type": "code",
      "metadata": {
        "colab": {
          "base_uri": "https://localhost:8080/"
        },
        "id": "kSDtBrly4djM",
        "outputId": "aa0c7e8f-5ced-4823-dd0e-53d3350b6dc7"
      },
      "source": [
        "re.findall('[A-Z]{4}', text)"
      ],
      "execution_count": 44,
      "outputs": [
        {
          "output_type": "execute_result",
          "data": {
            "text/plain": [
              "['PROF', 'STUD', 'STUD']"
            ]
          },
          "metadata": {},
          "execution_count": 44
        }
      ]
    },
    {
      "cell_type": "code",
      "metadata": {
        "colab": {
          "base_uri": "https://localhost:8080/"
        },
        "id": "dUYQ9Gl94vJ3",
        "outputId": "5d42d262-4bb2-4263-cd90-ca798bc5005a"
      },
      "source": [
        "re.findall('[A-Z][a-z]+', text)"
      ],
      "execution_count": 45,
      "outputs": [
        {
          "output_type": "execute_result",
          "data": {
            "text/plain": [
              "['John', 'James', 'Mac']"
            ]
          },
          "metadata": {},
          "execution_count": 45
        }
      ]
    },
    {
      "cell_type": "code",
      "metadata": {
        "id": "efAbQo5046qL"
      },
      "source": [
        ""
      ],
      "execution_count": null,
      "outputs": []
    },
    {
      "cell_type": "code",
      "metadata": {
        "id": "v-Wdm5Vu5U9D"
      },
      "source": [
        ""
      ],
      "execution_count": null,
      "outputs": []
    }
  ]
}