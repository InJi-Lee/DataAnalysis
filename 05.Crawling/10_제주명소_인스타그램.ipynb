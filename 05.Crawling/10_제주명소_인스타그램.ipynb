{
 "cells": [
  {
   "cell_type": "markdown",
   "source": [
    "# 제주도 핫플레이스 - 인스타그램 크롤링"
   ],
   "metadata": {}
  },
  {
   "cell_type": "code",
   "execution_count": 27,
   "source": [
    "from selenium import webdriver\r\n",
    "from bs4 import BeautifulSoup\r\n",
    "import time\r\n",
    "import pandas as pd"
   ],
   "outputs": [],
   "metadata": {}
  },
  {
   "cell_type": "code",
   "execution_count": 97,
   "source": [
    "chromedriver = '/Users/hhlee/Desktop/chromedriver.exe'\r\n",
    "driver = webdriver.Chrome(chromedriver)"
   ],
   "outputs": [],
   "metadata": {}
  },
  {
   "cell_type": "markdown",
   "source": [
    "### 1. Instagram에 접속하여 로그인 "
   ],
   "metadata": {}
  },
  {
   "cell_type": "code",
   "execution_count": 98,
   "source": [
    "insta_url = 'https://www.instagram.com'\r\n",
    "driver.get(insta_url)\r\n",
    "time.sleep(1)"
   ],
   "outputs": [],
   "metadata": {}
  },
  {
   "cell_type": "code",
   "execution_count": 99,
   "source": [
    "with open('password.txt') as f:\r\n",
    "        password = f.read()"
   ],
   "outputs": [],
   "metadata": {}
  },
  {
   "cell_type": "code",
   "execution_count": 100,
   "source": [
    "email = 'i___n_ji'\r\n",
    "input_email = driver.find_element_by_css_selector('._2hvTZ.pexuQ.zyHYP')\r\n",
    "input_email.clear()\r\n",
    "input_email.send_keys(email)"
   ],
   "outputs": [],
   "metadata": {}
  },
  {
   "cell_type": "code",
   "execution_count": 101,
   "source": [
    "input_pwd = driver.find_element_by_name('password')\r\n",
    "input_pwd.clear()\r\n",
    "input_pwd.send_keys(password)\r\n",
    "input_pwd.submit()\r\n",
    "time.sleep(1)"
   ],
   "outputs": [],
   "metadata": {}
  },
  {
   "cell_type": "code",
   "execution_count": 102,
   "source": [
    "# 로그인 정보 저장 - 나중에 하기\r\n",
    "try:\r\n",
    "    driver.find_element_by_css_selector('.sqdOP.yWX7d.y3zKF').click()\r\n",
    "    time.sleep(1)\r\n",
    "except:\r\n",
    "    pass"
   ],
   "outputs": [],
   "metadata": {}
  },
  {
   "cell_type": "code",
   "execution_count": 103,
   "source": [
    "try:\r\n",
    "    driver.find_element_by_css_selector('.aOOlW.HoLwm').click()\r\n",
    "    time.sleep(1)\r\n",
    "except:\r\n",
    "    pass"
   ],
   "outputs": [],
   "metadata": {}
  },
  {
   "cell_type": "markdown",
   "source": [
    "### 2. 제주도맛집 으로 검색"
   ],
   "metadata": {}
  },
  {
   "cell_type": "code",
   "execution_count": 104,
   "source": [
    "from urllib.parse import quote\r\n",
    "keyword = '제주도맛집'\r\n",
    "search_url = 'https://www.instagram.com/explore/tags/'\r\n",
    "url = f'{search_url}{quote(keyword)}'\r\n",
    "url"
   ],
   "outputs": [
    {
     "output_type": "execute_result",
     "data": {
      "text/plain": [
       "'https://www.instagram.com/explore/tags/%EC%A0%9C%EC%A3%BC%EB%8F%84%EB%A7%9B%EC%A7%91'"
      ]
     },
     "metadata": {},
     "execution_count": 104
    }
   ],
   "metadata": {}
  },
  {
   "cell_type": "code",
   "execution_count": 105,
   "source": [
    "driver.get(url)\r\n",
    "time.sleep(5)"
   ],
   "outputs": [],
   "metadata": {}
  },
  {
   "cell_type": "code",
   "execution_count": 106,
   "source": [
    "# driver.close()"
   ],
   "outputs": [],
   "metadata": {}
  },
  {
   "cell_type": "markdown",
   "source": [
    "### 3. 첫번째 게시글 열기"
   ],
   "metadata": {}
  },
  {
   "cell_type": "code",
   "execution_count": 107,
   "source": [
    "driver.find_element_by_css_selector('div._9AhH0').click()\r\n",
    "time.sleep(1)"
   ],
   "outputs": [],
   "metadata": {}
  },
  {
   "cell_type": "markdown",
   "source": [
    "### 4.  게시글 정보 가져오기"
   ],
   "metadata": {}
  },
  {
   "cell_type": "code",
   "execution_count": 108,
   "source": [
    "html = driver.page_source\r\n",
    "soup = BeautifulSoup(html, 'html.parser')"
   ],
   "outputs": [],
   "metadata": {}
  },
  {
   "cell_type": "code",
   "execution_count": 109,
   "source": [
    "# 1) 본문 내용 가져오기\r\n",
    "import unicodedata\r\n",
    "try:\r\n",
    "        content = soup.select_one('div.C4VMK > span').text\r\n",
    "        content = unicodedata.normalize('NFC', content)\r\n",
    "except:\r\n",
    "        content = '  '\r\n",
    "content"
   ],
   "outputs": [
    {
     "output_type": "execute_result",
     "data": {
      "text/plain": [
       "'.한림 #문도지오름방목된 조랑말과 교감까지 할 수이따규~일몰 시간에 맞춰서 가면 멋진 노을까지 볼 수 있으니 제주앓이에 무적권 걸린다...@이러니 제주를 사랑할 수 바꿰업쮜@코로롱시키!! 얼른 사라져!!✔장소_문도지오름✔주소_제주 제주시 한림읍 금악리-올레길 14-1코스에 위치-올레길가는법꿀팁_나뭇가지에 리본모양(파랑+빨강)끈이 묶여있다고한다_쭉가면 경고판문이 있는데 들어가면 된다_샛길로 5~6분정도 올라가면 된다..#제주맛집 #제주도맛집 #제주공항근처맛집 #제주시맛집 #애월맛집 #중문맛집 #제주공항맛집 #서귀포맛집 #산방산맛집 #신제주맛집 #제주시청맛집 #제주애월맛집 #월정리맛집 #제주여행 #제주핫플'"
      ]
     },
     "metadata": {},
     "execution_count": 109
    }
   ],
   "metadata": {}
  },
  {
   "cell_type": "code",
   "execution_count": 110,
   "source": [
    "# 2) 본문 내용에서 해쉬태그 가져오기 '#[^\\s#,\\\\]+'\r\n",
    "import re\r\n",
    "tags = re.findall(r'#[^\\s#,\\\\]+', content)\r\n",
    "tags"
   ],
   "outputs": [
    {
     "output_type": "execute_result",
     "data": {
      "text/plain": [
       "['#문도지오름방목된',\n",
       " '#제주맛집',\n",
       " '#제주도맛집',\n",
       " '#제주공항근처맛집',\n",
       " '#제주시맛집',\n",
       " '#애월맛집',\n",
       " '#중문맛집',\n",
       " '#제주공항맛집',\n",
       " '#서귀포맛집',\n",
       " '#산방산맛집',\n",
       " '#신제주맛집',\n",
       " '#제주시청맛집',\n",
       " '#제주애월맛집',\n",
       " '#월정리맛집',\n",
       " '#제주여행',\n",
       " '#제주핫플']"
      ]
     },
     "metadata": {},
     "execution_count": 110
    }
   ],
   "metadata": {}
  },
  {
   "cell_type": "code",
   "execution_count": 111,
   "source": [
    "# 3) 작성일자 정보 가져오기\r\n",
    "date = soup.select_one('time.FH9sR.Nzb55')['datetime'][:10]\r\n",
    "date"
   ],
   "outputs": [
    {
     "output_type": "execute_result",
     "data": {
      "text/plain": [
       "'2021-08-17'"
      ]
     },
     "metadata": {},
     "execution_count": 111
    }
   ],
   "metadata": {}
  },
  {
   "cell_type": "code",
   "execution_count": 112,
   "source": [
    "# 4) 좋아요 수 가져오기 \r\n",
    "try:\r\n",
    "    like = soup.select_one('div.Nm9Fw').text[4:-1]\r\n",
    "except:\r\n",
    "    like = 0\r\n",
    "like"
   ],
   "outputs": [
    {
     "output_type": "execute_result",
     "data": {
      "text/plain": [
       "0"
      ]
     },
     "metadata": {},
     "execution_count": 112
    }
   ],
   "metadata": {}
  },
  {
   "cell_type": "code",
   "execution_count": 113,
   "source": [
    "# 5) 위치정보 가져오기\r\n",
    "try:\r\n",
    "     place = soup.select('div.M30cS')[0].text\r\n",
    "     place = unicodedata.normalize('NFC', place)\r\n",
    "except:\r\n",
    "     place = ' '\r\n",
    "place\r\n"
   ],
   "outputs": [
    {
     "output_type": "execute_result",
     "data": {
      "text/plain": [
       "''"
      ]
     },
     "metadata": {},
     "execution_count": 113
    }
   ],
   "metadata": {}
  },
  {
   "cell_type": "code",
   "execution_count": 114,
   "source": [
    "row = [content, date, like, place, tags]\r\n",
    "row"
   ],
   "outputs": [
    {
     "output_type": "execute_result",
     "data": {
      "text/plain": [
       "['.한림 #문도지오름방목된 조랑말과 교감까지 할 수이따규~일몰 시간에 맞춰서 가면 멋진 노을까지 볼 수 있으니 제주앓이에 무적권 걸린다...@이러니 제주를 사랑할 수 바꿰업쮜@코로롱시키!! 얼른 사라져!!✔장소_문도지오름✔주소_제주 제주시 한림읍 금악리-올레길 14-1코스에 위치-올레길가는법꿀팁_나뭇가지에 리본모양(파랑+빨강)끈이 묶여있다고한다_쭉가면 경고판문이 있는데 들어가면 된다_샛길로 5~6분정도 올라가면 된다..#제주맛집 #제주도맛집 #제주공항근처맛집 #제주시맛집 #애월맛집 #중문맛집 #제주공항맛집 #서귀포맛집 #산방산맛집 #신제주맛집 #제주시청맛집 #제주애월맛집 #월정리맛집 #제주여행 #제주핫플',\n",
       " '2021-08-17',\n",
       " 0,\n",
       " '',\n",
       " ['#문도지오름방목된',\n",
       "  '#제주맛집',\n",
       "  '#제주도맛집',\n",
       "  '#제주공항근처맛집',\n",
       "  '#제주시맛집',\n",
       "  '#애월맛집',\n",
       "  '#중문맛집',\n",
       "  '#제주공항맛집',\n",
       "  '#서귀포맛집',\n",
       "  '#산방산맛집',\n",
       "  '#신제주맛집',\n",
       "  '#제주시청맛집',\n",
       "  '#제주애월맛집',\n",
       "  '#월정리맛집',\n",
       "  '#제주여행',\n",
       "  '#제주핫플']]"
      ]
     },
     "metadata": {},
     "execution_count": 114
    }
   ],
   "metadata": {}
  },
  {
   "cell_type": "markdown",
   "source": [
    "### 5. 다음 게시글로 이동"
   ],
   "metadata": {}
  },
  {
   "cell_type": "code",
   "execution_count": 115,
   "source": [
    "driver.find_element_by_css_selector('a._65Bje.coreSpriteRightPaginationArrow').click()\r\n",
    "time.sleep(2)"
   ],
   "outputs": [],
   "metadata": {}
  },
  {
   "cell_type": "code",
   "execution_count": 121,
   "source": [
    "# 6을 하기 위해 popup 화면을 없앰(즉, X 를 클릭)\r\n",
    "driver.find_element_by_xpath('/html/body/div[6]/div[3]/button').click()"
   ],
   "outputs": [],
   "metadata": {}
  },
  {
   "cell_type": "markdown",
   "source": [
    "### 6. 여러개의 게시글 가져오기"
   ],
   "metadata": {}
  },
  {
   "cell_type": "code",
   "execution_count": 123,
   "source": [
    "from tqdm.notebook import tqdm"
   ],
   "outputs": [],
   "metadata": {}
  },
  {
   "cell_type": "code",
   "execution_count": 128,
   "source": [
    "def get_content(driver):\r\n",
    "        html = driver.page_source\r\n",
    "        soup = BeautifulSoup(html, 'html.parser')\r\n",
    "\r\n",
    "        try:\r\n",
    "            content = soup.select_one('div.C4VMK > span').text\r\n",
    "            content = unicodedata.normalize('NFC', content)\r\n",
    "        except:\r\n",
    "                content = '  '\r\n",
    "        tags = re.findall(r'#[^\\s#,\\\\]+', content)\r\n",
    "        date = soup.select_one('time.FH9sR.Nzb55')['datetime'][:10]\r\n",
    "\r\n",
    "        try:\r\n",
    "            like = soup.select_one('div.Nm9Fw').text[4:-1]\r\n",
    "        except:\r\n",
    "            like = 0\r\n",
    "        \r\n",
    "        try:\r\n",
    "            place = soup.select('div.M30cS')[0].text\r\n",
    "            place = unicodedata.normalize('NFC', place)\r\n",
    "        except:\r\n",
    "            place = ' ' \r\n",
    "\r\n",
    "        return [content, tags, date, like, place]"
   ],
   "outputs": [],
   "metadata": {}
  },
  {
   "cell_type": "code",
   "execution_count": 122,
   "source": [
    "keyword = '제주도맛집'\r\n",
    "search_url = 'https://www.instagram.com/explore/tags/'\r\n",
    "url = f'{search_url}{quote(keyword)}'\r\n",
    "driver.get(url)\r\n",
    "time.sleep(5)\r\n",
    "driver.find_element_by_css_selector('div._9AhH0').click()\r\n",
    "time.sleep(1)"
   ],
   "outputs": [],
   "metadata": {}
  },
  {
   "cell_type": "code",
   "execution_count": 129,
   "source": [
    "results = []\r\n",
    "for _ in tqdm(range(500)):\r\n",
    "    try:\r\n",
    "        row = get_content(driver)\r\n",
    "        results.append(row)\r\n",
    "        driver.find_element_by_css_selector('a._65Bje.coreSpriteRightPaginationArrow').click()\r\n",
    "        time.sleep(2)\r\n",
    "    except:\r\n",
    "            time.sleep(3)\r\n",
    "            driver.find_element_by_css_selector('a._65Bje.coreSpriteRightPaginationArrow').click()\r\n",
    "            \r\n",
    "\r\n",
    "            "
   ],
   "outputs": [
    {
     "output_type": "display_data",
     "data": {
      "text/plain": [
       "  0%|          | 0/500 [00:00<?, ?it/s]"
      ],
      "application/vnd.jupyter.widget-view+json": {
       "version_major": 2,
       "version_minor": 0,
       "model_id": "bbefab4fd6184f6fa18bf7c393837999"
      }
     },
     "metadata": {}
    }
   ],
   "metadata": {}
  },
  {
   "cell_type": "code",
   "execution_count": 140,
   "source": [
    "df = pd.DataFrame(results, columns=['content','tags','date','like','place',])\r\n",
    "df.head()"
   ],
   "outputs": [
    {
     "output_type": "execute_result",
     "data": {
      "text/plain": [
       "                                             content  \\\n",
       "0  시댁 여자들만의 점심 회동이 있던날💚주한아빠 안테 주한이 맡겨두고 아침 일찍 달려 ...   \n",
       "1  눈부시게 맑았던 오늘 하늘과 햇님 찰칵📸다음주 #제주여행 이예약되어 있는데제주도가 ...   \n",
       "2  .#연동 #모니카옛날통닭간판부터 맛집포스 작렬하는 찐맛집이젠 인생치킨이라고 말하기도...   \n",
       "3  42년 전통 도민 맛집. 태양을 품은 듯 화끈한 비주얼이다. 포슬포슬한 두부가 푸짐...   \n",
       "4  #제주전복맛집JEJU하면 빼먹을 수 없는 전복😆이때 먹지 언제 먹어보겠어~존맛탱 전...   \n",
       "\n",
       "                                                tags        date   like  place  \n",
       "0                                      [#베케, #서귀포카페]  2021-08-18    823   Jeju  \n",
       "1  [#제주여행, #백신접종, #운좋은사람들, #운이좋아지는비누, #허브케어플러스, #...  2021-08-18    111  Suwon  \n",
       "2  [#연동, #모니카옛날통닭간판부터, #제주맛집, #제주도맛집, #제주공항근처맛집, ...  2021-08-19  1,124         \n",
       "3  [#신해바라기분식, #제주도맛집뜨끈한, #순두부찌개, #국밥맛집, #제주맛집, #제...  2021-08-18  1,081    제주도  \n",
       "4  [#제주전복맛집JEJU하면, #제주여행, #제주도여행, #제주여행코스, #제주가볼만...  2021-08-18  1,270         "
      ],
      "text/html": [
       "<div>\n",
       "<style scoped>\n",
       "    .dataframe tbody tr th:only-of-type {\n",
       "        vertical-align: middle;\n",
       "    }\n",
       "\n",
       "    .dataframe tbody tr th {\n",
       "        vertical-align: top;\n",
       "    }\n",
       "\n",
       "    .dataframe thead th {\n",
       "        text-align: right;\n",
       "    }\n",
       "</style>\n",
       "<table border=\"1\" class=\"dataframe\">\n",
       "  <thead>\n",
       "    <tr style=\"text-align: right;\">\n",
       "      <th></th>\n",
       "      <th>content</th>\n",
       "      <th>tags</th>\n",
       "      <th>date</th>\n",
       "      <th>like</th>\n",
       "      <th>place</th>\n",
       "    </tr>\n",
       "  </thead>\n",
       "  <tbody>\n",
       "    <tr>\n",
       "      <th>0</th>\n",
       "      <td>시댁 여자들만의 점심 회동이 있던날💚주한아빠 안테 주한이 맡겨두고 아침 일찍 달려 ...</td>\n",
       "      <td>[#베케, #서귀포카페]</td>\n",
       "      <td>2021-08-18</td>\n",
       "      <td>823</td>\n",
       "      <td>Jeju</td>\n",
       "    </tr>\n",
       "    <tr>\n",
       "      <th>1</th>\n",
       "      <td>눈부시게 맑았던 오늘 하늘과 햇님 찰칵📸다음주 #제주여행 이예약되어 있는데제주도가 ...</td>\n",
       "      <td>[#제주여행, #백신접종, #운좋은사람들, #운이좋아지는비누, #허브케어플러스, #...</td>\n",
       "      <td>2021-08-18</td>\n",
       "      <td>111</td>\n",
       "      <td>Suwon</td>\n",
       "    </tr>\n",
       "    <tr>\n",
       "      <th>2</th>\n",
       "      <td>.#연동 #모니카옛날통닭간판부터 맛집포스 작렬하는 찐맛집이젠 인생치킨이라고 말하기도...</td>\n",
       "      <td>[#연동, #모니카옛날통닭간판부터, #제주맛집, #제주도맛집, #제주공항근처맛집, ...</td>\n",
       "      <td>2021-08-19</td>\n",
       "      <td>1,124</td>\n",
       "      <td></td>\n",
       "    </tr>\n",
       "    <tr>\n",
       "      <th>3</th>\n",
       "      <td>42년 전통 도민 맛집. 태양을 품은 듯 화끈한 비주얼이다. 포슬포슬한 두부가 푸짐...</td>\n",
       "      <td>[#신해바라기분식, #제주도맛집뜨끈한, #순두부찌개, #국밥맛집, #제주맛집, #제...</td>\n",
       "      <td>2021-08-18</td>\n",
       "      <td>1,081</td>\n",
       "      <td>제주도</td>\n",
       "    </tr>\n",
       "    <tr>\n",
       "      <th>4</th>\n",
       "      <td>#제주전복맛집JEJU하면 빼먹을 수 없는 전복😆이때 먹지 언제 먹어보겠어~존맛탱 전...</td>\n",
       "      <td>[#제주전복맛집JEJU하면, #제주여행, #제주도여행, #제주여행코스, #제주가볼만...</td>\n",
       "      <td>2021-08-18</td>\n",
       "      <td>1,270</td>\n",
       "      <td></td>\n",
       "    </tr>\n",
       "  </tbody>\n",
       "</table>\n",
       "</div>"
      ]
     },
     "metadata": {},
     "execution_count": 140
    }
   ],
   "metadata": {}
  },
  {
   "cell_type": "code",
   "execution_count": 120,
   "source": [
    "df.tail()"
   ],
   "outputs": [
    {
     "output_type": "execute_result",
     "data": {
      "text/plain": [
       "                                              content        date like  \\\n",
       "45                                 아보카도커피🥑☕아보카도샌드위치🥑🥪  2021-08-19    0   \n",
       "46  🌻나만 보는 해바라기 같은 남자 구합니다🌻...#일상 #일상스타그램 #인스타그램 #...  2021-08-19    0   \n",
       "47                                   이제 슬슬 선선해지고 있다❤️  2021-08-19    0   \n",
       "48  오모나...#헬스 #국내여행 #내사랑 #제주도카페 #다렉 #새벽 #일산 #가족 #카...  2021-08-19    0   \n",
       "49  제주 인생밥집⠀⠀⠀⠀⠀⠀⠀⠀⠀⠀⠀⠀⠀⠀⠀⠀⠀🕚 OPEN - 11:00⠀⠀⠀⠀⠀⠀⠀⠀...  2021-08-19    0   \n",
       "\n",
       "      place                                               tags  \n",
       "45                                                          []  \n",
       "46           [#일상, #일상스타그램, #인스타그램, #여행, #제주도, #제주도여행, #제주도...  \n",
       "47  Jeju-do                                                 []  \n",
       "48           [#헬스, #국내여행, #내사랑, #제주도카페, #다렉, #새벽, #일산, #가족,...  \n",
       "49           [#제주, #제주도, #jeju, #제주살이, #제주맛집, #제주도맛집, #한림맛집...  "
      ],
      "text/html": [
       "<div>\n",
       "<style scoped>\n",
       "    .dataframe tbody tr th:only-of-type {\n",
       "        vertical-align: middle;\n",
       "    }\n",
       "\n",
       "    .dataframe tbody tr th {\n",
       "        vertical-align: top;\n",
       "    }\n",
       "\n",
       "    .dataframe thead th {\n",
       "        text-align: right;\n",
       "    }\n",
       "</style>\n",
       "<table border=\"1\" class=\"dataframe\">\n",
       "  <thead>\n",
       "    <tr style=\"text-align: right;\">\n",
       "      <th></th>\n",
       "      <th>content</th>\n",
       "      <th>date</th>\n",
       "      <th>like</th>\n",
       "      <th>place</th>\n",
       "      <th>tags</th>\n",
       "    </tr>\n",
       "  </thead>\n",
       "  <tbody>\n",
       "    <tr>\n",
       "      <th>45</th>\n",
       "      <td>아보카도커피🥑☕아보카도샌드위치🥑🥪</td>\n",
       "      <td>2021-08-19</td>\n",
       "      <td>0</td>\n",
       "      <td></td>\n",
       "      <td>[]</td>\n",
       "    </tr>\n",
       "    <tr>\n",
       "      <th>46</th>\n",
       "      <td>🌻나만 보는 해바라기 같은 남자 구합니다🌻...#일상 #일상스타그램 #인스타그램 #...</td>\n",
       "      <td>2021-08-19</td>\n",
       "      <td>0</td>\n",
       "      <td></td>\n",
       "      <td>[#일상, #일상스타그램, #인스타그램, #여행, #제주도, #제주도여행, #제주도...</td>\n",
       "    </tr>\n",
       "    <tr>\n",
       "      <th>47</th>\n",
       "      <td>이제 슬슬 선선해지고 있다❤️</td>\n",
       "      <td>2021-08-19</td>\n",
       "      <td>0</td>\n",
       "      <td>Jeju-do</td>\n",
       "      <td>[]</td>\n",
       "    </tr>\n",
       "    <tr>\n",
       "      <th>48</th>\n",
       "      <td>오모나...#헬스 #국내여행 #내사랑 #제주도카페 #다렉 #새벽 #일산 #가족 #카...</td>\n",
       "      <td>2021-08-19</td>\n",
       "      <td>0</td>\n",
       "      <td></td>\n",
       "      <td>[#헬스, #국내여행, #내사랑, #제주도카페, #다렉, #새벽, #일산, #가족,...</td>\n",
       "    </tr>\n",
       "    <tr>\n",
       "      <th>49</th>\n",
       "      <td>제주 인생밥집⠀⠀⠀⠀⠀⠀⠀⠀⠀⠀⠀⠀⠀⠀⠀⠀⠀🕚 OPEN - 11:00⠀⠀⠀⠀⠀⠀⠀⠀...</td>\n",
       "      <td>2021-08-19</td>\n",
       "      <td>0</td>\n",
       "      <td></td>\n",
       "      <td>[#제주, #제주도, #jeju, #제주살이, #제주맛집, #제주도맛집, #한림맛집...</td>\n",
       "    </tr>\n",
       "  </tbody>\n",
       "</table>\n",
       "</div>"
      ]
     },
     "metadata": {},
     "execution_count": 120
    }
   ],
   "metadata": {}
  },
  {
   "cell_type": "code",
   "execution_count": 130,
   "source": [
    "for keyword in ['제주도맛집', '제주맛집', '제주도관광', '제주여행']:\r\n",
    "    url = f'{search_url}{quote(keyword)}'\r\n",
    "    driver.get(url)\r\n",
    "    time.sleep(5)\r\n",
    "    driver.find_element_by_css_selector('div._9AhH0').click()\r\n",
    "    time.sleep(2)\r\n",
    "\r\n",
    "    results = []\r\n",
    "    for _ in tqdm(range(200)):\r\n",
    "        try:\r\n",
    "            row = get_content(driver)\r\n",
    "            results.append(row)\r\n",
    "            driver.find_element_by_css_selector('a._65Bje.coreSpriteRightPaginationArrow').click()\r\n",
    "            time.sleep(2)\r\n",
    "        except:\r\n",
    "            time.sleep(3)\r\n",
    "            driver.find_element_by_css_selector('a._65Bje.coreSpriteRightPaginationArrow').click()\r\n",
    "            time.sleep(2)\r\n",
    "\r\n",
    "    df = pd.DataFrame(results, columns=['content','date','like','place','tags'])\r\n",
    "    df.to_csv(f'data/{keyword}.csv', index=False)\r\n",
    "\r\n",
    "    driver.find_element_by_xpath('/html/body/div[6]/div[3]/button').click()\r\n",
    "    time.sleep(2)"
   ],
   "outputs": [
    {
     "output_type": "display_data",
     "data": {
      "text/plain": [
       "  0%|          | 0/200 [00:00<?, ?it/s]"
      ],
      "application/vnd.jupyter.widget-view+json": {
       "version_major": 2,
       "version_minor": 0,
       "model_id": "0c39668a3a6e45699dd07ff69277dfb9"
      }
     },
     "metadata": {}
    },
    {
     "output_type": "display_data",
     "data": {
      "text/plain": [
       "  0%|          | 0/200 [00:00<?, ?it/s]"
      ],
      "application/vnd.jupyter.widget-view+json": {
       "version_major": 2,
       "version_minor": 0,
       "model_id": "1e7acea236354fb991729ed7fd9a3f7b"
      }
     },
     "metadata": {}
    },
    {
     "output_type": "display_data",
     "data": {
      "text/plain": [
       "  0%|          | 0/200 [00:00<?, ?it/s]"
      ],
      "application/vnd.jupyter.widget-view+json": {
       "version_major": 2,
       "version_minor": 0,
       "model_id": "e9ff5f7e3af44d00a1df3501b5d52754"
      }
     },
     "metadata": {}
    },
    {
     "output_type": "display_data",
     "data": {
      "text/plain": [
       "  0%|          | 0/200 [00:00<?, ?it/s]"
      ],
      "application/vnd.jupyter.widget-view+json": {
       "version_major": 2,
       "version_minor": 0,
       "model_id": "7b71bcd5d3444c7398f6f499e4a88e28"
      }
     },
     "metadata": {}
    }
   ],
   "metadata": {}
  },
  {
   "cell_type": "code",
   "execution_count": 131,
   "source": [
    "driver.close()"
   ],
   "outputs": [],
   "metadata": {}
  },
  {
   "cell_type": "markdown",
   "source": [
    "### 4가지 CSV 파일의 중복을 제거한 후 통합 저장"
   ],
   "metadata": {}
  },
  {
   "cell_type": "code",
   "execution_count": 142,
   "source": [
    "for keyword in ['제주도맛집','제주맛집','제주도관광','제주여행']:\r\n",
    "        df = pd.read_csv(f'data/{keyword}.csv')\r\n",
    "        print(df.head())\r\n"
   ],
   "outputs": [
    {
     "output_type": "stream",
     "name": "stdout",
     "text": [
      "                                             content  \\\n",
      "0  .#연동 #모니카옛날통닭간판부터 맛집포스 작렬하는 찐맛집이젠 인생치킨이라고 말하기도...   \n",
      "1  <광고>섭지코지에서 한끼 맛있게 드시고 싶다면...특히 점심메뉴로 강력추천드리고요 ...   \n",
      "2  .< 제주해물라면 맛집모음! > 일단저장@ 해물 아낌없이 주는 해물라면 맛집!바다뷰...   \n",
      "3  협찬제주애월맛집 \"랍스터빈\"주소 : 제주시 애월읍 애월해안로 752전화 : 064-...   \n",
      "4  .한림 #문도지오름방목된 조랑말과 교감까지 할 수이따규~일몰 시간에 맞춰서 가면 멋...   \n",
      "\n",
      "                                                date        like  place tags  \n",
      "0  ['#연동', '#모니카옛날통닭간판부터', '#제주맛집', '#제주도맛집', '#제...  2021-08-19  1,113  NaN  \n",
      "1  ['#섭지코지한끼🍱오픈', '#섭지코지맛집', '#섭지코지', '#섭지코지카페', ...  2021-08-18      0  NaN  \n",
      "2  ['#제주맛집', '#제주도맛집', '#제주공항근처맛집', '#제주시맛집', '#애...  2021-08-18  1,008  NaN  \n",
      "3  ['#애월맛집', '#애월카페', '#애월읍맛집', '#제주애월맛집', '#제주도맛...  2021-08-18      0  NaN  \n",
      "4  ['#문도지오름방목된', '#제주맛집', '#제주도맛집', '#제주공항근처맛집', ...  2021-08-17  1,304  NaN  \n",
      "                                             content  \\\n",
      "0  .💙 구좌 \"제주모랑\" 💙사장님들이 손수 만든 수제소품들이 가득~좋은향이 가득한 구...   \n",
      "1  협찬제주 대표 썬셋 맛집 \"랍스터빈\"주소 : 제주시 애월읍 애월해안로 752전화 :...   \n",
      "2  42년 전통 도민 맛집. 태양을 품은 듯 화끈한 비주얼이다. 포슬포슬한 두부가 푸짐...   \n",
      "3  <광고>분위기 좋고!! 매장 내부가 넓어서 쾌적하고좋아요.시간대 잘 맞추시면 애월바...   \n",
      "4  광고)제주공항에서 진~짜가깝고 개별룸이 많아서 더 좋고맛있는 도민맛집으로유명한 '연...   \n",
      "\n",
      "                                                date        like  place tags  \n",
      "0  ['#제주모랑', '#제주소품샵', '#세화소품샵', '#제주기념품', '#제주기념...  2021-08-18  1,029  NaN  \n",
      "1  ['#애월맛집', '#애월카페', '#애월읍맛집', '#제주애월맛집', '#제주도맛...  2021-08-18      0  NaN  \n",
      "2  ['#신해바라기분식', '#제주도맛집뜨끈한', '#순두부찌개', '#국밥맛집', '...  2021-08-18  1,057  제주도  \n",
      "3  ['#코시롱', '#애월맛집', '#애월읍맛집', '#애월맛집추천', '#애월흑돼지...  2021-08-18      0  NaN  \n",
      "4  ['#제주맛집', '#제주도맛집', '#제주공항근처맛집', '#제주골프', '#제주...  2021-08-18      0  NaN  \n",
      "                                             content  \\\n",
      "0  #제주#제주특별시#제주도#제주도관광#성산읍#백패킹#섬패킹#등산#산스타그램🌳#제주백패...   \n",
      "1  #the3space #가족스냅.우리가족의 찐 행복💕.HM/Dress @jina_n_...   \n",
      "2                       행복은 멀지 않은 곳에 있다며남양주-제주 700km   \n",
      "3  💛💛💛10월의 제주도는 억새의 계절 ! 🌾사람도 없구 너무 한적하구 좋았던곳이였어요...   \n",
      "4  #협찬⠀바다 위에서 느끼는 제주의 자연지난번 쇠소깍에 왔을 때는 현장 발권해서 엄청...   \n",
      "\n",
      "                                                date        like  place  \\\n",
      "0  ['#제주', '#제주특별시', '#제주도', '#제주도관광', '#성산읍', '#...  2020-07-24    565   \n",
      "1  ['#the3space', '#가족스냅.우리가족의', '#제주스냅', '#제주도스냅...  2021-03-03    255   \n",
      "2                                                 []  2021-05-19    293   \n",
      "3                                     ['#빛나투어_제주✈️']  2020-10-10    619   \n",
      "4  ['#협찬⠀바다', '#서귀포in정', '#서귀포인정', '#서귀포몰', '#제주도...  2021-06-11  1,146   \n",
      "\n",
      "              tags  \n",
      "0              NaN  \n",
      "1              제주도  \n",
      "2             사계바다  \n",
      "3  제주도 Jeju Island  \n",
      "4              NaN  \n",
      "                                             content  \\\n",
      "0  #난산리다방 #가오픈마지막주. '이번주가 마지막 입니다.'. 제가 운영하는 곳에 구...   \n",
      "1  _오늘의 블루보틀✨오픈시간 아주 조금 지나서 도착하니바로 입장하고 여유로움 :)블루...   \n",
      "2  #청춘나길 📢 스냅 촬영 안내 및 가격 공지🎁상품안내: 1시간 2시간 4시간 (그 ...   \n",
      "3  ▪️배 안나온다고 체중이 늘지 않는다고쓸데없이 걱정했던 지난날을 반성하며 ㅋㅋ출산이...   \n",
      "4  42년 전통 도민 맛집. 태양을 품은 듯 화끈한 비주얼이다. 포슬포슬한 두부가 푸짐...   \n",
      "\n",
      "                                                date        like  \\\n",
      "0                 ['#난산리다방', '#가오픈마지막주.', '#르꼬르동블루']  2021-08-19   \n",
      "1                                                 []  2021-08-18   \n",
      "2                                          ['#청춘나길']  2021-08-17   \n",
      "3  ['#제주여행', '#태교여행', '#법환바다안정기시절..', '#임신10개월', ...  2021-08-19   \n",
      "4  ['#신해바라기분식', '#제주도맛집뜨끈한', '#순두부찌개', '#국밥맛집', '...  2021-08-18   \n",
      "\n",
      "                  place               tags  \n",
      "0                   471              난산리다방  \n",
      "1                 2,148            블루보틀 제주  \n",
      "2                   670  환상의 섬 Jeju Island  \n",
      "3  ela___님 외 521명이 좋아합니               법환바다  \n",
      "4                 1,079                제주도  \n"
     ]
    }
   ],
   "metadata": {}
  },
  {
   "cell_type": "code",
   "execution_count": 137,
   "source": [
    "jeju_df.tail()"
   ],
   "outputs": [
    {
     "output_type": "execute_result",
     "data": {
      "text/plain": [
       "Empty DataFrame\n",
       "Columns: []\n",
       "Index: []"
      ],
      "text/html": [
       "<div>\n",
       "<style scoped>\n",
       "    .dataframe tbody tr th:only-of-type {\n",
       "        vertical-align: middle;\n",
       "    }\n",
       "\n",
       "    .dataframe tbody tr th {\n",
       "        vertical-align: top;\n",
       "    }\n",
       "\n",
       "    .dataframe thead th {\n",
       "        text-align: right;\n",
       "    }\n",
       "</style>\n",
       "<table border=\"1\" class=\"dataframe\">\n",
       "  <thead>\n",
       "    <tr style=\"text-align: right;\">\n",
       "      <th></th>\n",
       "    </tr>\n",
       "  </thead>\n",
       "  <tbody>\n",
       "  </tbody>\n",
       "</table>\n",
       "</div>"
      ]
     },
     "metadata": {},
     "execution_count": 137
    }
   ],
   "metadata": {}
  },
  {
   "cell_type": "code",
   "execution_count": null,
   "source": [],
   "outputs": [],
   "metadata": {}
  }
 ],
 "metadata": {
  "orig_nbformat": 4,
  "language_info": {
   "name": "python"
  }
 },
 "nbformat": 4,
 "nbformat_minor": 2
}